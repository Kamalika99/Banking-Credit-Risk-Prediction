{
  "cells": [
    {
      "cell_type": "markdown",
      "metadata": {
        "id": "SCqppCaloBsE"
      },
      "source": [
        "# 1)Problem Statement"
      ]
    },
    {
      "cell_type": "markdown",
      "metadata": {
        "id": "NyY0p_Y4yMNh"
      },
      "source": [
        "A **credit score** is a numerical representation of an individual's creditworthiness, typically ranging from 300 to 850. It helps lenders assess the risk of lending money to individuals. Higher credit scores indicate better creditworthiness, meaning the individual is more likely to repay loans on time, while lower scores indicate higher risk.\n",
        "\n",
        "### Key Factors That Determine a Credit Score:\n",
        "1. **Payment History (35%)**:\n",
        "   - This is the most significant factor. It includes whether you’ve paid past credit accounts on time. Late payments, defaults, bankruptcies, and foreclosures negatively impact your score.\n",
        "\n",
        "2. **Credit Utilization (30%)**:\n",
        "   - This is the ratio of current credit card balances to the total credit limit. It’s recommended to keep credit utilization below 30%. For example, if your total credit limit is $10,000 and your balance is $3,000, your utilization rate is 30%.\n",
        "\n",
        "3. **Length of Credit History (15%)**:\n",
        "   - The longer your credit history, the better. This includes the age of your oldest account, the average age of all accounts, and how long it’s been since you used certain accounts.\n",
        "\n",
        "4. **Credit Mix (10%)**:\n",
        "   - Having a variety of credit types (e.g., credit cards, mortgages, auto loans) can help your score. It shows you can manage different types of debt.\n",
        "\n",
        "5. **New Credit (10%)**:\n",
        "   - Opening several new credit accounts in a short period can negatively impact your score. Each time you apply for credit, a hard inquiry is made, which can lower your score temporarily.\n",
        "\n",
        "\n",
        "\n"
      ]
    },
    {
      "cell_type": "markdown",
      "metadata": {
        "id": "KytV0Jrxof-V"
      },
      "source": [
        "**Credit risk model building** is the process of developing statistical or machine learning models to assess the likelihood that a borrower or customer will default on their financial obligations. These models are essential in banking, lending, and financial services as they help institutions quantify the level of risk associated with granting loans or credit to customers. A critical model within this domain is the **Probability of Default (PD) model**, which estimates the likelihood that a borrower will default on a loan within a specific timeframe, often one year.\n"
      ]
    },
    {
      "cell_type": "markdown",
      "metadata": {
        "id": "0Ug8WSFYoFdH"
      },
      "source": [
        "#2)Data Exploration, Validation, Cleaning"
      ]
    },
    {
      "cell_type": "code",
      "execution_count": 1,
      "metadata": {
        "id": "d6ckZt9dqZQi"
      },
      "outputs": [],
      "source": [
        "import matplotlib.pyplot as plt\n",
        "import pandas as pd\n",
        "import seaborn as sns"
      ]
    },
    {
      "cell_type": "markdown",
      "metadata": {
        "id": "qQD1LWFDGwLR"
      },
      "source": [
        "## Import Give me some Credit\\cs-training.csv"
      ]
    },
    {
      "cell_type": "code",
      "execution_count": 2,
      "metadata": {
        "id": "MUrAq-D0GtzX"
      },
      "outputs": [],
      "source": [
        "#file_Path=\"bankingdata.csv\"\n",
        "loans=pd.read_csv(\"bankingdata.csv\")"
      ]
    },
    {
      "cell_type": "code",
      "execution_count": 3,
      "metadata": {
        "colab": {
          "base_uri": "https://localhost:8080/"
        },
        "id": "JoB6jGmLtvSt",
        "outputId": "23b6c62c-8555-4b85-83c3-5f83aab5e411"
      },
      "outputs": [
        {
          "name": "stdout",
          "output_type": "stream",
          "text": [
            "<class 'pandas.core.frame.DataFrame'>\n",
            "RangeIndex: 150000 entries, 0 to 149999\n",
            "Data columns (total 12 columns):\n",
            " #   Column                                Non-Null Count   Dtype  \n",
            "---  ------                                --------------   -----  \n",
            " 0   Sr_No                                 150000 non-null  int64  \n",
            " 1   SeriousDlqin2yrs                      150000 non-null  int64  \n",
            " 2   monthly_utilization                   150000 non-null  float64\n",
            " 3   age                                   150000 non-null  int64  \n",
            " 4   NumberOfTime30-59DaysPastDueNotWorse  150000 non-null  int64  \n",
            " 5   DebtRatio                             150000 non-null  float64\n",
            " 6   MonthlyIncome                         120269 non-null  float64\n",
            " 7   NumberOfOpenCreditLinesAndLoans       150000 non-null  int64  \n",
            " 8   NumberOfTimes90DaysLate               150000 non-null  int64  \n",
            " 9   NumberRealEstateLoansOrLines          150000 non-null  int64  \n",
            " 10  NumberOfTime60-89DaysPastDueNotWorse  150000 non-null  int64  \n",
            " 11  NumberOfDependents                    146076 non-null  float64\n",
            "dtypes: float64(4), int64(8)\n",
            "memory usage: 13.7 MB\n"
          ]
        }
      ],
      "source": [
        "loans.info()"
      ]
    },
    {
      "cell_type": "code",
      "execution_count": 4,
      "metadata": {
        "colab": {
          "base_uri": "https://localhost:8080/"
        },
        "id": "cxPOj-WGG_FW",
        "outputId": "3c5a3276-8593-488d-b5bb-3c0b5f460178"
      },
      "outputs": [
        {
          "data": {
            "text/plain": [
              "(150000, 12)"
            ]
          },
          "execution_count": 4,
          "metadata": {},
          "output_type": "execute_result"
        }
      ],
      "source": [
        "#What are number of rows and columns\n",
        "loans.shape"
      ]
    },
    {
      "cell_type": "code",
      "execution_count": 5,
      "metadata": {
        "colab": {
          "base_uri": "https://localhost:8080/"
        },
        "id": "juhGnYpCHYaW",
        "outputId": "6e596bd8-d24e-4610-e736-4f9c00cca473"
      },
      "outputs": [
        {
          "data": {
            "text/plain": [
              "array(['Sr_No', 'SeriousDlqin2yrs', 'monthly_utilization', 'age',\n",
              "       'NumberOfTime30-59DaysPastDueNotWorse', 'DebtRatio',\n",
              "       'MonthlyIncome', 'NumberOfOpenCreditLinesAndLoans',\n",
              "       'NumberOfTimes90DaysLate', 'NumberRealEstateLoansOrLines',\n",
              "       'NumberOfTime60-89DaysPastDueNotWorse', 'NumberOfDependents'],\n",
              "      dtype=object)"
            ]
          },
          "execution_count": 5,
          "metadata": {},
          "output_type": "execute_result"
        }
      ],
      "source": [
        "#Are there any suspicious variables?\n",
        "loans.columns.values"
      ]
    },
    {
      "cell_type": "code",
      "execution_count": 6,
      "metadata": {
        "colab": {
          "base_uri": "https://localhost:8080/",
          "height": 460
        },
        "id": "Aoq0EXaDHZht",
        "outputId": "250a69d8-f063-4929-ef9c-7da0aaa25c39"
      },
      "outputs": [
        {
          "data": {
            "text/plain": [
              "Sr_No                                     int64\n",
              "SeriousDlqin2yrs                          int64\n",
              "monthly_utilization                     float64\n",
              "age                                       int64\n",
              "NumberOfTime30-59DaysPastDueNotWorse      int64\n",
              "DebtRatio                               float64\n",
              "MonthlyIncome                           float64\n",
              "NumberOfOpenCreditLinesAndLoans           int64\n",
              "NumberOfTimes90DaysLate                   int64\n",
              "NumberRealEstateLoansOrLines              int64\n",
              "NumberOfTime60-89DaysPastDueNotWorse      int64\n",
              "NumberOfDependents                      float64\n",
              "dtype: object"
            ]
          },
          "execution_count": 6,
          "metadata": {},
          "output_type": "execute_result"
        }
      ],
      "source": [
        "#Display the variable formats\n",
        "loans.dtypes"
      ]
    },
    {
      "cell_type": "code",
      "execution_count": 7,
      "metadata": {
        "colab": {
          "base_uri": "https://localhost:8080/",
          "height": 400
        },
        "id": "kocke9VpHaqS",
        "outputId": "dc19ca05-778a-48dc-a553-25e38f07a657"
      },
      "outputs": [
        {
          "data": {
            "text/html": [
              "<div>\n",
              "<style scoped>\n",
              "    .dataframe tbody tr th:only-of-type {\n",
              "        vertical-align: middle;\n",
              "    }\n",
              "\n",
              "    .dataframe tbody tr th {\n",
              "        vertical-align: top;\n",
              "    }\n",
              "\n",
              "    .dataframe thead th {\n",
              "        text-align: right;\n",
              "    }\n",
              "</style>\n",
              "<table border=\"1\" class=\"dataframe\">\n",
              "  <thead>\n",
              "    <tr style=\"text-align: right;\">\n",
              "      <th></th>\n",
              "      <th>Sr_No</th>\n",
              "      <th>SeriousDlqin2yrs</th>\n",
              "      <th>monthly_utilization</th>\n",
              "      <th>age</th>\n",
              "      <th>NumberOfTime30-59DaysPastDueNotWorse</th>\n",
              "      <th>DebtRatio</th>\n",
              "      <th>MonthlyIncome</th>\n",
              "      <th>NumberOfOpenCreditLinesAndLoans</th>\n",
              "      <th>NumberOfTimes90DaysLate</th>\n",
              "      <th>NumberRealEstateLoansOrLines</th>\n",
              "      <th>NumberOfTime60-89DaysPastDueNotWorse</th>\n",
              "      <th>NumberOfDependents</th>\n",
              "    </tr>\n",
              "  </thead>\n",
              "  <tbody>\n",
              "    <tr>\n",
              "      <th>0</th>\n",
              "      <td>1</td>\n",
              "      <td>1</td>\n",
              "      <td>0.766127</td>\n",
              "      <td>45</td>\n",
              "      <td>2</td>\n",
              "      <td>0.802982</td>\n",
              "      <td>9120.0</td>\n",
              "      <td>13</td>\n",
              "      <td>0</td>\n",
              "      <td>6</td>\n",
              "      <td>0</td>\n",
              "      <td>2.0</td>\n",
              "    </tr>\n",
              "    <tr>\n",
              "      <th>1</th>\n",
              "      <td>2</td>\n",
              "      <td>0</td>\n",
              "      <td>0.957151</td>\n",
              "      <td>40</td>\n",
              "      <td>0</td>\n",
              "      <td>0.121876</td>\n",
              "      <td>2600.0</td>\n",
              "      <td>4</td>\n",
              "      <td>0</td>\n",
              "      <td>0</td>\n",
              "      <td>0</td>\n",
              "      <td>1.0</td>\n",
              "    </tr>\n",
              "    <tr>\n",
              "      <th>2</th>\n",
              "      <td>3</td>\n",
              "      <td>0</td>\n",
              "      <td>0.658180</td>\n",
              "      <td>38</td>\n",
              "      <td>1</td>\n",
              "      <td>0.085113</td>\n",
              "      <td>3042.0</td>\n",
              "      <td>2</td>\n",
              "      <td>1</td>\n",
              "      <td>0</td>\n",
              "      <td>0</td>\n",
              "      <td>0.0</td>\n",
              "    </tr>\n",
              "    <tr>\n",
              "      <th>3</th>\n",
              "      <td>4</td>\n",
              "      <td>0</td>\n",
              "      <td>0.233810</td>\n",
              "      <td>30</td>\n",
              "      <td>0</td>\n",
              "      <td>0.036050</td>\n",
              "      <td>3300.0</td>\n",
              "      <td>5</td>\n",
              "      <td>0</td>\n",
              "      <td>0</td>\n",
              "      <td>0</td>\n",
              "      <td>0.0</td>\n",
              "    </tr>\n",
              "    <tr>\n",
              "      <th>4</th>\n",
              "      <td>5</td>\n",
              "      <td>0</td>\n",
              "      <td>0.907239</td>\n",
              "      <td>49</td>\n",
              "      <td>1</td>\n",
              "      <td>0.024926</td>\n",
              "      <td>63588.0</td>\n",
              "      <td>7</td>\n",
              "      <td>0</td>\n",
              "      <td>1</td>\n",
              "      <td>0</td>\n",
              "      <td>0.0</td>\n",
              "    </tr>\n",
              "    <tr>\n",
              "      <th>5</th>\n",
              "      <td>6</td>\n",
              "      <td>0</td>\n",
              "      <td>0.213179</td>\n",
              "      <td>74</td>\n",
              "      <td>0</td>\n",
              "      <td>0.375607</td>\n",
              "      <td>3500.0</td>\n",
              "      <td>3</td>\n",
              "      <td>0</td>\n",
              "      <td>1</td>\n",
              "      <td>0</td>\n",
              "      <td>1.0</td>\n",
              "    </tr>\n",
              "    <tr>\n",
              "      <th>6</th>\n",
              "      <td>7</td>\n",
              "      <td>0</td>\n",
              "      <td>0.305682</td>\n",
              "      <td>57</td>\n",
              "      <td>0</td>\n",
              "      <td>5710.000000</td>\n",
              "      <td>NaN</td>\n",
              "      <td>8</td>\n",
              "      <td>0</td>\n",
              "      <td>3</td>\n",
              "      <td>0</td>\n",
              "      <td>0.0</td>\n",
              "    </tr>\n",
              "    <tr>\n",
              "      <th>7</th>\n",
              "      <td>8</td>\n",
              "      <td>0</td>\n",
              "      <td>0.754464</td>\n",
              "      <td>39</td>\n",
              "      <td>0</td>\n",
              "      <td>0.209940</td>\n",
              "      <td>3500.0</td>\n",
              "      <td>8</td>\n",
              "      <td>0</td>\n",
              "      <td>0</td>\n",
              "      <td>0</td>\n",
              "      <td>0.0</td>\n",
              "    </tr>\n",
              "    <tr>\n",
              "      <th>8</th>\n",
              "      <td>9</td>\n",
              "      <td>0</td>\n",
              "      <td>0.116951</td>\n",
              "      <td>27</td>\n",
              "      <td>0</td>\n",
              "      <td>46.000000</td>\n",
              "      <td>NaN</td>\n",
              "      <td>2</td>\n",
              "      <td>0</td>\n",
              "      <td>0</td>\n",
              "      <td>0</td>\n",
              "      <td>NaN</td>\n",
              "    </tr>\n",
              "    <tr>\n",
              "      <th>9</th>\n",
              "      <td>10</td>\n",
              "      <td>0</td>\n",
              "      <td>0.189169</td>\n",
              "      <td>57</td>\n",
              "      <td>0</td>\n",
              "      <td>0.606291</td>\n",
              "      <td>23684.0</td>\n",
              "      <td>9</td>\n",
              "      <td>0</td>\n",
              "      <td>4</td>\n",
              "      <td>0</td>\n",
              "      <td>2.0</td>\n",
              "    </tr>\n",
              "  </tbody>\n",
              "</table>\n",
              "</div>"
            ],
            "text/plain": [
              "   Sr_No  SeriousDlqin2yrs  monthly_utilization  age  \\\n",
              "0      1                 1             0.766127   45   \n",
              "1      2                 0             0.957151   40   \n",
              "2      3                 0             0.658180   38   \n",
              "3      4                 0             0.233810   30   \n",
              "4      5                 0             0.907239   49   \n",
              "5      6                 0             0.213179   74   \n",
              "6      7                 0             0.305682   57   \n",
              "7      8                 0             0.754464   39   \n",
              "8      9                 0             0.116951   27   \n",
              "9     10                 0             0.189169   57   \n",
              "\n",
              "   NumberOfTime30-59DaysPastDueNotWorse    DebtRatio  MonthlyIncome  \\\n",
              "0                                     2     0.802982         9120.0   \n",
              "1                                     0     0.121876         2600.0   \n",
              "2                                     1     0.085113         3042.0   \n",
              "3                                     0     0.036050         3300.0   \n",
              "4                                     1     0.024926        63588.0   \n",
              "5                                     0     0.375607         3500.0   \n",
              "6                                     0  5710.000000            NaN   \n",
              "7                                     0     0.209940         3500.0   \n",
              "8                                     0    46.000000            NaN   \n",
              "9                                     0     0.606291        23684.0   \n",
              "\n",
              "   NumberOfOpenCreditLinesAndLoans  NumberOfTimes90DaysLate  \\\n",
              "0                               13                        0   \n",
              "1                                4                        0   \n",
              "2                                2                        1   \n",
              "3                                5                        0   \n",
              "4                                7                        0   \n",
              "5                                3                        0   \n",
              "6                                8                        0   \n",
              "7                                8                        0   \n",
              "8                                2                        0   \n",
              "9                                9                        0   \n",
              "\n",
              "   NumberRealEstateLoansOrLines  NumberOfTime60-89DaysPastDueNotWorse  \\\n",
              "0                             6                                     0   \n",
              "1                             0                                     0   \n",
              "2                             0                                     0   \n",
              "3                             0                                     0   \n",
              "4                             1                                     0   \n",
              "5                             1                                     0   \n",
              "6                             3                                     0   \n",
              "7                             0                                     0   \n",
              "8                             0                                     0   \n",
              "9                             4                                     0   \n",
              "\n",
              "   NumberOfDependents  \n",
              "0                 2.0  \n",
              "1                 1.0  \n",
              "2                 0.0  \n",
              "3                 0.0  \n",
              "4                 0.0  \n",
              "5                 1.0  \n",
              "6                 0.0  \n",
              "7                 0.0  \n",
              "8                 NaN  \n",
              "9                 2.0  "
            ]
          },
          "execution_count": 7,
          "metadata": {},
          "output_type": "execute_result"
        }
      ],
      "source": [
        "#Print the first 10 observations\n",
        "loans.head(10)"
      ]
    },
    {
      "cell_type": "code",
      "execution_count": 8,
      "metadata": {
        "colab": {
          "base_uri": "https://localhost:8080/"
        },
        "id": "t4DgO4q5Hd8S",
        "outputId": "7543a767-509d-421b-f278-db840fc0115c"
      },
      "outputs": [
        {
          "data": {
            "text/plain": [
              "array(['Sr_No', 'SeriousDlqin2yrs', 'monthly_utilization', 'age',\n",
              "       'NumberOfTime30-59DaysPastDueNotWorse', 'DebtRatio',\n",
              "       'MonthlyIncome', 'NumberOfOpenCreditLinesAndLoans',\n",
              "       'NumberOfTimes90DaysLate', 'NumberRealEstateLoansOrLines',\n",
              "       'NumberOfTime60-89DaysPastDueNotWorse', 'NumberOfDependents'],\n",
              "      dtype=object)"
            ]
          },
          "execution_count": 8,
          "metadata": {},
          "output_type": "execute_result"
        }
      ],
      "source": [
        "#Do we have any unique identifier?\n",
        "loans.columns.values"
      ]
    },
    {
      "cell_type": "markdown",
      "metadata": {
        "id": "ATtndMPSHg9r"
      },
      "source": [
        "## Categorical variables exploration"
      ]
    },
    {
      "cell_type": "code",
      "execution_count": 9,
      "metadata": {
        "colab": {
          "base_uri": "https://localhost:8080/",
          "height": 244
        },
        "id": "S7SiwZFRHfNC",
        "outputId": "57377064-13c3-4462-f113-7bc0629c83c6"
      },
      "outputs": [
        {
          "data": {
            "text/html": [
              "<div>\n",
              "<style scoped>\n",
              "    .dataframe tbody tr th:only-of-type {\n",
              "        vertical-align: middle;\n",
              "    }\n",
              "\n",
              "    .dataframe tbody tr th {\n",
              "        vertical-align: top;\n",
              "    }\n",
              "\n",
              "    .dataframe thead th {\n",
              "        text-align: right;\n",
              "    }\n",
              "</style>\n",
              "<table border=\"1\" class=\"dataframe\">\n",
              "  <thead>\n",
              "    <tr style=\"text-align: right;\">\n",
              "      <th></th>\n",
              "      <th>Sr_No</th>\n",
              "      <th>SeriousDlqin2yrs</th>\n",
              "      <th>monthly_utilization</th>\n",
              "      <th>age</th>\n",
              "      <th>NumberOfTime30-59DaysPastDueNotWorse</th>\n",
              "      <th>DebtRatio</th>\n",
              "      <th>MonthlyIncome</th>\n",
              "      <th>NumberOfOpenCreditLinesAndLoans</th>\n",
              "      <th>NumberOfTimes90DaysLate</th>\n",
              "      <th>NumberRealEstateLoansOrLines</th>\n",
              "      <th>NumberOfTime60-89DaysPastDueNotWorse</th>\n",
              "      <th>NumberOfDependents</th>\n",
              "    </tr>\n",
              "  </thead>\n",
              "  <tbody>\n",
              "    <tr>\n",
              "      <th>0</th>\n",
              "      <td>1</td>\n",
              "      <td>1</td>\n",
              "      <td>0.766127</td>\n",
              "      <td>45</td>\n",
              "      <td>2</td>\n",
              "      <td>0.802982</td>\n",
              "      <td>9120.0</td>\n",
              "      <td>13</td>\n",
              "      <td>0</td>\n",
              "      <td>6</td>\n",
              "      <td>0</td>\n",
              "      <td>2.0</td>\n",
              "    </tr>\n",
              "    <tr>\n",
              "      <th>1</th>\n",
              "      <td>2</td>\n",
              "      <td>0</td>\n",
              "      <td>0.957151</td>\n",
              "      <td>40</td>\n",
              "      <td>0</td>\n",
              "      <td>0.121876</td>\n",
              "      <td>2600.0</td>\n",
              "      <td>4</td>\n",
              "      <td>0</td>\n",
              "      <td>0</td>\n",
              "      <td>0</td>\n",
              "      <td>1.0</td>\n",
              "    </tr>\n",
              "    <tr>\n",
              "      <th>2</th>\n",
              "      <td>3</td>\n",
              "      <td>0</td>\n",
              "      <td>0.658180</td>\n",
              "      <td>38</td>\n",
              "      <td>1</td>\n",
              "      <td>0.085113</td>\n",
              "      <td>3042.0</td>\n",
              "      <td>2</td>\n",
              "      <td>1</td>\n",
              "      <td>0</td>\n",
              "      <td>0</td>\n",
              "      <td>0.0</td>\n",
              "    </tr>\n",
              "    <tr>\n",
              "      <th>3</th>\n",
              "      <td>4</td>\n",
              "      <td>0</td>\n",
              "      <td>0.233810</td>\n",
              "      <td>30</td>\n",
              "      <td>0</td>\n",
              "      <td>0.036050</td>\n",
              "      <td>3300.0</td>\n",
              "      <td>5</td>\n",
              "      <td>0</td>\n",
              "      <td>0</td>\n",
              "      <td>0</td>\n",
              "      <td>0.0</td>\n",
              "    </tr>\n",
              "    <tr>\n",
              "      <th>4</th>\n",
              "      <td>5</td>\n",
              "      <td>0</td>\n",
              "      <td>0.907239</td>\n",
              "      <td>49</td>\n",
              "      <td>1</td>\n",
              "      <td>0.024926</td>\n",
              "      <td>63588.0</td>\n",
              "      <td>7</td>\n",
              "      <td>0</td>\n",
              "      <td>1</td>\n",
              "      <td>0</td>\n",
              "      <td>0.0</td>\n",
              "    </tr>\n",
              "  </tbody>\n",
              "</table>\n",
              "</div>"
            ],
            "text/plain": [
              "   Sr_No  SeriousDlqin2yrs  monthly_utilization  age  \\\n",
              "0      1                 1             0.766127   45   \n",
              "1      2                 0             0.957151   40   \n",
              "2      3                 0             0.658180   38   \n",
              "3      4                 0             0.233810   30   \n",
              "4      5                 0             0.907239   49   \n",
              "\n",
              "   NumberOfTime30-59DaysPastDueNotWorse  DebtRatio  MonthlyIncome  \\\n",
              "0                                     2   0.802982         9120.0   \n",
              "1                                     0   0.121876         2600.0   \n",
              "2                                     1   0.085113         3042.0   \n",
              "3                                     0   0.036050         3300.0   \n",
              "4                                     1   0.024926        63588.0   \n",
              "\n",
              "   NumberOfOpenCreditLinesAndLoans  NumberOfTimes90DaysLate  \\\n",
              "0                               13                        0   \n",
              "1                                4                        0   \n",
              "2                                2                        1   \n",
              "3                                5                        0   \n",
              "4                                7                        0   \n",
              "\n",
              "   NumberRealEstateLoansOrLines  NumberOfTime60-89DaysPastDueNotWorse  \\\n",
              "0                             6                                     0   \n",
              "1                             0                                     0   \n",
              "2                             0                                     0   \n",
              "3                             0                                     0   \n",
              "4                             1                                     0   \n",
              "\n",
              "   NumberOfDependents  \n",
              "0                 2.0  \n",
              "1                 1.0  \n",
              "2                 0.0  \n",
              "3                 0.0  \n",
              "4                 0.0  "
            ]
          },
          "execution_count": 9,
          "metadata": {},
          "output_type": "execute_result"
        }
      ],
      "source": [
        "#What are the categorical and discrete variables? What are the continues variables.\n",
        "loans.dtypes\n",
        "loans.head()\n"
      ]
    },
    {
      "cell_type": "code",
      "execution_count": 10,
      "metadata": {
        "colab": {
          "base_uri": "https://localhost:8080/"
        },
        "id": "ASIxF0pWHlAX",
        "outputId": "aec4dc8b-37f6-42b3-9bae-e25d2c785181"
      },
      "outputs": [
        {
          "name": "stdout",
          "output_type": "stream",
          "text": [
            "SeriousDlqin2yrs\n",
            "0    139974\n",
            "1     10026\n",
            "Name: count, dtype: int64\n"
          ]
        }
      ],
      "source": [
        "print(loans['SeriousDlqin2yrs'].value_counts())\n",
        "#seriously deliquient -> bad customers\n",
        "#not seriously deliquient -> good customers"
      ]
    },
    {
      "cell_type": "code",
      "execution_count": 11,
      "metadata": {
        "colab": {
          "base_uri": "https://localhost:8080/"
        },
        "id": "JRAEoJwoHm7y",
        "outputId": "9704ef56-ef95-494b-c417-54d548a217bc"
      },
      "outputs": [
        {
          "name": "stdout",
          "output_type": "stream",
          "text": [
            "age\n",
            "49     3837\n",
            "48     3806\n",
            "50     3753\n",
            "47     3719\n",
            "63     3719\n",
            "       ... \n",
            "102       3\n",
            "109       2\n",
            "107       1\n",
            "105       1\n",
            "0         1\n",
            "Name: count, Length: 86, dtype: int64\n"
          ]
        }
      ],
      "source": [
        "print(loans['age'].value_counts())\n",
        "# look at the percentiles to get a better idea"
      ]
    },
    {
      "cell_type": "code",
      "execution_count": 12,
      "metadata": {
        "colab": {
          "base_uri": "https://localhost:8080/"
        },
        "id": "7GQ5Dz4THnAB",
        "outputId": "b47b090b-2fc7-4aa8-e00d-d9040fb422b4"
      },
      "outputs": [
        {
          "name": "stdout",
          "output_type": "stream",
          "text": [
            "NumberOfTime30-59DaysPastDueNotWorse\n",
            "0     126018\n",
            "1      16033\n",
            "2       4598\n",
            "3       1754\n",
            "4        747\n",
            "5        342\n",
            "98       264\n",
            "6        140\n",
            "7         54\n",
            "8         25\n",
            "9         12\n",
            "96         5\n",
            "10         4\n",
            "12         2\n",
            "13         1\n",
            "11         1\n",
            "Name: count, dtype: int64\n"
          ]
        }
      ],
      "source": [
        "print(loans['NumberOfTime30-59DaysPastDueNotWorse'].value_counts())\n",
        "#paid after 1 month or 30 days after\n",
        "\n",
        "#96 and 98 are outliers we need to clean the data in -NumberOfTime30-59DaysPastDueNotWorse"
      ]
    },
    {
      "cell_type": "code",
      "execution_count": 28,
      "metadata": {
        "colab": {
          "base_uri": "https://localhost:8080/"
        },
        "id": "B48hDm6FHnGr",
        "outputId": "55cd6561-c057-42b2-d66d-64967b189537"
      },
      "outputs": [
        {
          "name": "stdout",
          "output_type": "stream",
          "text": [
            "NumberOfOpenCreditLinesAndLoans\n",
            "6     13614\n",
            "7     13245\n",
            "5     12931\n",
            "8     12562\n",
            "4     11609\n",
            "9     11355\n",
            "10     9624\n",
            "3      9058\n",
            "11     8321\n",
            "12     7005\n",
            "2      6666\n",
            "13     5667\n",
            "14     4546\n",
            "1      4438\n",
            "15     3645\n",
            "16     3000\n",
            "17     2370\n",
            "0      1888\n",
            "18     1874\n",
            "19     1433\n",
            "20     1169\n",
            "21      864\n",
            "22      685\n",
            "23      533\n",
            "24      422\n",
            "25      337\n",
            "26      239\n",
            "27      194\n",
            "28      150\n",
            "29      114\n",
            "30       88\n",
            "31       74\n",
            "32       52\n",
            "33       47\n",
            "34       35\n",
            "35       27\n",
            "36       18\n",
            "38       13\n",
            "40       10\n",
            "39        9\n",
            "43        8\n",
            "42        8\n",
            "45        8\n",
            "37        7\n",
            "48        6\n",
            "54        4\n",
            "49        4\n",
            "41        4\n",
            "46        3\n",
            "52        3\n",
            "47        2\n",
            "51        2\n",
            "57        2\n",
            "56        2\n",
            "44        2\n",
            "50        2\n",
            "58        1\n",
            "53        1\n",
            "Name: count, dtype: int64\n"
          ]
        }
      ],
      "source": [
        "print(loans['NumberOfOpenCreditLinesAndLoans'].value_counts())"
      ]
    },
    {
      "cell_type": "code",
      "execution_count": null,
      "metadata": {
        "id": "N3gr2IpJXgUl"
      },
      "outputs": [],
      "source": [
        "#outliers present in NumberofCredit Lines and Loans - Above 20 Outliers(having more than 20 creditlines and loans)\n",
        "#regulator =Business: they decide what above is outlier as data analyst you dont decide\n",
        "#this variable neads cleaning"
      ]
    },
    {
      "cell_type": "code",
      "execution_count": 29,
      "metadata": {
        "colab": {
          "base_uri": "https://localhost:8080/"
        },
        "id": "92spjYIMHqZi",
        "outputId": "b9dfc6f0-ed3b-4cf9-a798-3a7feeb2e9b6"
      },
      "outputs": [
        {
          "name": "stdout",
          "output_type": "stream",
          "text": [
            "NumberOfTimes90DaysLate\n",
            "0     141662\n",
            "1       5243\n",
            "2       1555\n",
            "3        667\n",
            "4        291\n",
            "98       264\n",
            "5        131\n",
            "6         80\n",
            "7         38\n",
            "8         21\n",
            "9         19\n",
            "10         8\n",
            "96         5\n",
            "11         5\n",
            "13         4\n",
            "15         2\n",
            "14         2\n",
            "12         2\n",
            "17         1\n",
            "Name: count, dtype: int64\n"
          ]
        }
      ],
      "source": [
        "print(loans['NumberOfTimes90DaysLate'].value_counts())"
      ]
    },
    {
      "cell_type": "code",
      "execution_count": 236,
      "metadata": {
        "id": "7DUkDUPaYCrv"
      },
      "outputs": [],
      "source": [
        "#NumberOfTimes90DaysLate-has errors\n",
        "#24 months -24 bills -max to max 24 times\n",
        "#96 and 98 are Errors -This need to be cleaned"
      ]
    },
    {
      "cell_type": "code",
      "execution_count": 30,
      "metadata": {
        "colab": {
          "base_uri": "https://localhost:8080/"
        },
        "id": "4LP5V2szHqgt",
        "outputId": "ce0d8430-93b5-44c3-ad23-90d37c5f3e17"
      },
      "outputs": [
        {
          "name": "stdout",
          "output_type": "stream",
          "text": [
            "NumberRealEstateLoansOrLines\n",
            "0     56188\n",
            "1     52338\n",
            "2     31522\n",
            "3      6300\n",
            "4      2170\n",
            "5       689\n",
            "6       320\n",
            "7       171\n",
            "8        93\n",
            "9        78\n",
            "10       37\n",
            "11       23\n",
            "12       18\n",
            "13       15\n",
            "14        7\n",
            "15        7\n",
            "17        4\n",
            "16        4\n",
            "25        3\n",
            "23        2\n",
            "20        2\n",
            "19        2\n",
            "18        2\n",
            "26        1\n",
            "21        1\n",
            "54        1\n",
            "29        1\n",
            "32        1\n",
            "Name: count, dtype: int64\n"
          ]
        }
      ],
      "source": [
        "print(loans['NumberRealEstateLoansOrLines'].value_counts())"
      ]
    },
    {
      "cell_type": "code",
      "execution_count": 31,
      "metadata": {
        "id": "5L8Qo1W2Yn98"
      },
      "outputs": [],
      "source": [
        "# more than 10 loans are considered as outliers -After discussing with the business Partner"
      ]
    },
    {
      "cell_type": "code",
      "execution_count": 32,
      "metadata": {
        "colab": {
          "base_uri": "https://localhost:8080/"
        },
        "id": "yChuq-YtHqlD",
        "outputId": "22e7ff6c-82c4-436d-e2b5-038d0758bbe1"
      },
      "outputs": [
        {
          "name": "stdout",
          "output_type": "stream",
          "text": [
            "NumberOfTime60-89DaysPastDueNotWorse\n",
            "0     142396\n",
            "1       5731\n",
            "2       1118\n",
            "3        318\n",
            "98       264\n",
            "4        105\n",
            "5         34\n",
            "6         16\n",
            "7          9\n",
            "96         5\n",
            "8          2\n",
            "11         1\n",
            "9          1\n",
            "Name: count, dtype: int64\n"
          ]
        }
      ],
      "source": [
        "print(loans['NumberOfTime60-89DaysPastDueNotWorse'].value_counts())"
      ]
    },
    {
      "cell_type": "code",
      "execution_count": 33,
      "metadata": {
        "id": "za0AqbFKZEGz"
      },
      "outputs": [],
      "source": [
        "#wrong values -96 and 98"
      ]
    },
    {
      "cell_type": "code",
      "execution_count": 34,
      "metadata": {
        "colab": {
          "base_uri": "https://localhost:8080/"
        },
        "id": "0U4zdFxVHqqg",
        "outputId": "e573b888-1950-4371-d813-181e94ad07d6"
      },
      "outputs": [
        {
          "name": "stdout",
          "output_type": "stream",
          "text": [
            "NumberOfDependents\n",
            "0.0     86902\n",
            "1.0     26316\n",
            "2.0     19522\n",
            "3.0      9483\n",
            "4.0      2862\n",
            "5.0       746\n",
            "6.0       158\n",
            "7.0        51\n",
            "8.0        24\n",
            "10.0        5\n",
            "9.0         5\n",
            "20.0        1\n",
            "13.0        1\n",
            "Name: count, dtype: int64\n"
          ]
        }
      ],
      "source": [
        "print(loans['NumberOfDependents'].value_counts())"
      ]
    },
    {
      "cell_type": "code",
      "execution_count": 35,
      "metadata": {
        "id": "jEH4n1QNZH7x"
      },
      "outputs": [],
      "source": [
        "# 3924 values are null"
      ]
    },
    {
      "cell_type": "code",
      "execution_count": 36,
      "metadata": {
        "colab": {
          "base_uri": "https://localhost:8080/",
          "height": 460
        },
        "id": "26fUFKC_Hx3f",
        "outputId": "df7d961d-7f58-462f-fb75-4d7dc75cdcd9"
      },
      "outputs": [
        {
          "data": {
            "text/plain": [
              "Sr_No                                       0\n",
              "SeriousDlqin2yrs                            0\n",
              "monthly_utilization                         0\n",
              "age                                         0\n",
              "NumberOfTime30-59DaysPastDueNotWorse        0\n",
              "DebtRatio                                   0\n",
              "MonthlyIncome                           29731\n",
              "NumberOfOpenCreditLinesAndLoans             0\n",
              "NumberOfTimes90DaysLate                     0\n",
              "NumberRealEstateLoansOrLines                0\n",
              "NumberOfTime60-89DaysPastDueNotWorse        0\n",
              "NumberOfDependents                       3924\n",
              "dtype: int64"
            ]
          },
          "execution_count": 36,
          "metadata": {},
          "output_type": "execute_result"
        }
      ],
      "source": [
        "#Are there any   variables with missing values?\n",
        "loans.isnull().sum()"
      ]
    },
    {
      "cell_type": "markdown",
      "metadata": {
        "id": "kySyhDctI99D"
      },
      "source": [
        "## Continuous variables exploration"
      ]
    },
    {
      "cell_type": "code",
      "execution_count": 37,
      "metadata": {
        "id": "6kA1E18AZxPw"
      },
      "outputs": [],
      "source": [
        "# we explore the continuous variables using the percentiles concept and funtion is quantile"
      ]
    },
    {
      "cell_type": "markdown",
      "metadata": {
        "id": "eJ-UyFTdJLml"
      },
      "source": [
        "### RevolvingUtilizationOfUnsecuredLines"
      ]
    },
    {
      "cell_type": "code",
      "execution_count": 38,
      "metadata": {
        "colab": {
          "base_uri": "https://localhost:8080/",
          "height": 569
        },
        "id": "fecfoOK4xpPc",
        "outputId": "3d371c7a-28bd-4ff8-f521-4a703bea6257"
      },
      "outputs": [
        {
          "data": {
            "text/plain": [
              "{'whiskers': [<matplotlib.lines.Line2D at 0x1e5835cde50>,\n",
              "  <matplotlib.lines.Line2D at 0x1e5835cdf90>],\n",
              " 'caps': [<matplotlib.lines.Line2D at 0x1e5835ce0d0>,\n",
              "  <matplotlib.lines.Line2D at 0x1e5835ce210>],\n",
              " 'boxes': [<matplotlib.lines.Line2D at 0x1e5834cdbd0>],\n",
              " 'medians': [<matplotlib.lines.Line2D at 0x1e5835ce350>],\n",
              " 'fliers': [<matplotlib.lines.Line2D at 0x1e5835ce490>],\n",
              " 'means': []}"
            ]
          },
          "execution_count": 38,
          "metadata": {},
          "output_type": "execute_result"
        },
        {
          "data": {
            "image/png": "[encoded data removed]",
            "text/plain": [
              "<Figure size 640x480 with 1 Axes>"
            ]
          },
          "metadata": {},
          "output_type": "display_data"
        }
      ],
      "source": [
        "plt.boxplot(loans[\"monthly_utilization\"])"
      ]
    },
    {
      "cell_type": "code",
      "execution_count": 39,
      "metadata": {
        "colab": {
          "base_uri": "https://localhost:8080/",
          "height": 617
        },
        "id": "Al7hSnjAJJ1K",
        "outputId": "ee4d9c16-00b1-4264-e545-185faf659ef9"
      },
      "outputs": [
        {
          "data": {
            "text/plain": [
              "0.000        0.00\n",
              "0.100        0.00\n",
              "0.200        0.02\n",
              "0.300        0.04\n",
              "0.400        0.08\n",
              "0.500        0.15\n",
              "0.750        0.56\n",
              "0.800        0.70\n",
              "0.900        0.98\n",
              "0.910        1.00\n",
              "0.950        1.00\n",
              "0.960        1.00\n",
              "0.970        1.00\n",
              "0.975        1.00\n",
              "0.980        1.01\n",
              "0.990        1.09\n",
              "1.000    50708.00\n",
              "Name: monthly_utilization, dtype: float64"
            ]
          },
          "execution_count": 39,
          "metadata": {},
          "output_type": "execute_result"
        }
      ],
      "source": [
        "util_percentiles=loans['monthly_utilization'].quantile([0, 0.1, 0.2,0.3,0.4, 0.5, 0.75, 0.80, 0.9,0.91,0.95,0.96,0.97,0.975,0.98,0.99,1])\n",
        "round(util_percentiles,2)"
      ]
    },
    {
      "cell_type": "code",
      "execution_count": 40,
      "metadata": {
        "id": "YePTkk7DbElw"
      },
      "outputs": [
        {
          "data": {
            "text/plain": [
              "'Lower Percentiles (Up to 97th):\\nThe data shows a gradual increase in utilization as you move up the percentiles.\\nUp to the 97th percentile, the utilization remains relatively reasonable, with values ranging from 0.00 to 1.00. This suggests that the majority (97%) of your loan data has credit utilization within expected ranges.\\nWhy \"Clean\": These values are within a typical range for credit utilization. A utilization of 1.00 (100%) is considered high but not necessarily an error, as some borrowers may max out their credit.\\n\\nTop 3% (97th to 100th Percentile):\\nSignificant Jump: There\\'s a dramatic jump in utilization from 1.00 at the 97th percentile to 50708.00 at the 100th percentile.\\nOutlier: The value of 50708.00 is extremely high and indicates a data error or a highly unusual situation.\\nWhy \"Issues\": Such a high utilization is not realistic. It\\'s likely a data entry error, a system glitch, or some other anomaly.\\nIn credit risk modeling, it\\'s crucial to handle such outliers as they can skew your results and lead to inaccurate predictions.'"
            ]
          },
          "execution_count": 40,
          "metadata": {},
          "output_type": "execute_result"
        }
      ],
      "source": [
        "# 3% issues and 97% is clean\n",
        "#Explanation\n",
        "'''Lower Percentiles (Up to 97th):\n",
        "The data shows a gradual increase in utilization as you move up the percentiles.\n",
        "Up to the 97th percentile, the utilization remains relatively reasonable, with values ranging from 0.00 to 1.00. This suggests that the majority (97%) of your loan data has credit utilization within expected ranges.\n",
        "Why \"Clean\": These values are within a typical range for credit utilization. A utilization of 1.00 (100%) is considered high but not necessarily an error, as some borrowers may max out their credit.\n",
        "\n",
        "Top 3% (97th to 100th Percentile):\n",
        "Significant Jump: There's a dramatic jump in utilization from 1.00 at the 97th percentile to 50708.00 at the 100th percentile.\n",
        "Outlier: The value of 50708.00 is extremely high and indicates a data error or a highly unusual situation.\n",
        "Why \"Issues\": Such a high utilization is not realistic. It's likely a data entry error, a system glitch, or some other anomaly.\n",
        "In credit risk modeling, it's crucial to handle such outliers as they can skew your results and lead to inaccurate predictions.'''"
      ]
    },
    {
      "cell_type": "markdown",
      "metadata": {
        "id": "q1U2Cez3JOze"
      },
      "source": [
        "### MonthlyIncome"
      ]
    },
    {
      "cell_type": "code",
      "execution_count": 41,
      "metadata": {
        "colab": {
          "base_uri": "https://localhost:8080/",
          "height": 584
        },
        "id": "Abjkb5OrH3ss",
        "outputId": "996b9115-fa99-42a6-dcab-1634c3933488"
      },
      "outputs": [
        {
          "data": {
            "text/plain": [
              "{'whiskers': [<matplotlib.lines.Line2D at 0x1e583676d50>,\n",
              "  <matplotlib.lines.Line2D at 0x1e583676e90>],\n",
              " 'caps': [<matplotlib.lines.Line2D at 0x1e583676fd0>,\n",
              "  <matplotlib.lines.Line2D at 0x1e583677110>],\n",
              " 'boxes': [<matplotlib.lines.Line2D at 0x1e583676c10>],\n",
              " 'medians': [<matplotlib.lines.Line2D at 0x1e583677250>],\n",
              " 'fliers': [<matplotlib.lines.Line2D at 0x1e583677390>],\n",
              " 'means': []}"
            ]
          },
          "execution_count": 41,
          "metadata": {},
          "output_type": "execute_result"
        },
        {
          "data": {
            "image/png": "[encoded data removed]",
            "text/plain": [
              "<Figure size 640x480 with 1 Axes>"
            ]
          },
          "metadata": {},
          "output_type": "display_data"
        }
      ],
      "source": [
        "#loans.boxplot(column=\"MonthlyIncome\")\n",
        "non_null_monthly_income=loans[\"MonthlyIncome\"][loans[\"MonthlyIncome\"].isnull()==False]\n",
        "plt.boxplot(non_null_monthly_income)"
      ]
    },
    {
      "cell_type": "code",
      "execution_count": 42,
      "metadata": {
        "colab": {
          "base_uri": "https://localhost:8080/"
        },
        "id": "0eR1mifsH7it",
        "outputId": "4bbee640-72ca-44a0-a42c-046dde7a0478"
      },
      "outputs": [
        {
          "name": "stdout",
          "output_type": "stream",
          "text": [
            "Count of missing values\n",
            "29731\n",
            "% of missing values\n",
            "0.2\n"
          ]
        }
      ],
      "source": [
        "#Find the percentage of missing values\n",
        "print(\"Count of missing values\")\n",
        "print(loans['MonthlyIncome'].isnull().sum())\n",
        "print(\"% of missing values\")\n",
        "print(round(loans['MonthlyIncome'].isnull().sum()/len(loans),2))"
      ]
    },
    {
      "cell_type": "code",
      "execution_count": 43,
      "metadata": {
        "id": "SA_tZIR7donP"
      },
      "outputs": [],
      "source": [
        "#monthly income has 2 problems missing values and outliers"
      ]
    },
    {
      "cell_type": "markdown",
      "metadata": {
        "id": "SI34aZHyIIZ2"
      },
      "source": [
        "## Data Cleaning"
      ]
    },
    {
      "cell_type": "markdown",
      "metadata": {
        "id": "9Mi5BpVz0fhD"
      },
      "source": [
        "### Data Cleaning - Monthly_utilization"
      ]
    },
    {
      "cell_type": "code",
      "execution_count": 45,
      "metadata": {},
      "outputs": [
        {
          "data": {
            "text/html": [
              "<div>\n",
              "<style scoped>\n",
              "    .dataframe tbody tr th:only-of-type {\n",
              "        vertical-align: middle;\n",
              "    }\n",
              "\n",
              "    .dataframe tbody tr th {\n",
              "        vertical-align: top;\n",
              "    }\n",
              "\n",
              "    .dataframe thead th {\n",
              "        text-align: right;\n",
              "    }\n",
              "</style>\n",
              "<table border=\"1\" class=\"dataframe\">\n",
              "  <thead>\n",
              "    <tr style=\"text-align: right;\">\n",
              "      <th></th>\n",
              "      <th>Sr_No</th>\n",
              "      <th>SeriousDlqin2yrs</th>\n",
              "      <th>monthly_utilization</th>\n",
              "      <th>age</th>\n",
              "      <th>NumberOfTime30-59DaysPastDueNotWorse</th>\n",
              "      <th>DebtRatio</th>\n",
              "      <th>MonthlyIncome</th>\n",
              "      <th>NumberOfOpenCreditLinesAndLoans</th>\n",
              "      <th>NumberOfTimes90DaysLate</th>\n",
              "      <th>NumberRealEstateLoansOrLines</th>\n",
              "      <th>NumberOfTime60-89DaysPastDueNotWorse</th>\n",
              "      <th>NumberOfDependents</th>\n",
              "    </tr>\n",
              "  </thead>\n",
              "  <tbody>\n",
              "    <tr>\n",
              "      <th>count</th>\n",
              "      <td>150000.000000</td>\n",
              "      <td>150000.000000</td>\n",
              "      <td>150000.000000</td>\n",
              "      <td>150000.000000</td>\n",
              "      <td>150000.000000</td>\n",
              "      <td>150000.000000</td>\n",
              "      <td>1.202690e+05</td>\n",
              "      <td>150000.000000</td>\n",
              "      <td>150000.000000</td>\n",
              "      <td>150000.000000</td>\n",
              "      <td>150000.000000</td>\n",
              "      <td>146076.000000</td>\n",
              "    </tr>\n",
              "    <tr>\n",
              "      <th>mean</th>\n",
              "      <td>75000.500000</td>\n",
              "      <td>0.066840</td>\n",
              "      <td>6.048438</td>\n",
              "      <td>52.295207</td>\n",
              "      <td>0.421033</td>\n",
              "      <td>353.005076</td>\n",
              "      <td>6.670221e+03</td>\n",
              "      <td>8.452760</td>\n",
              "      <td>0.265973</td>\n",
              "      <td>1.018240</td>\n",
              "      <td>0.240387</td>\n",
              "      <td>0.757222</td>\n",
              "    </tr>\n",
              "    <tr>\n",
              "      <th>std</th>\n",
              "      <td>43301.414527</td>\n",
              "      <td>0.249746</td>\n",
              "      <td>249.755371</td>\n",
              "      <td>14.771866</td>\n",
              "      <td>4.192781</td>\n",
              "      <td>2037.818523</td>\n",
              "      <td>1.438467e+04</td>\n",
              "      <td>5.145951</td>\n",
              "      <td>4.169304</td>\n",
              "      <td>1.129771</td>\n",
              "      <td>4.155179</td>\n",
              "      <td>1.115086</td>\n",
              "    </tr>\n",
              "    <tr>\n",
              "      <th>min</th>\n",
              "      <td>1.000000</td>\n",
              "      <td>0.000000</td>\n",
              "      <td>0.000000</td>\n",
              "      <td>0.000000</td>\n",
              "      <td>0.000000</td>\n",
              "      <td>0.000000</td>\n",
              "      <td>0.000000e+00</td>\n",
              "      <td>0.000000</td>\n",
              "      <td>0.000000</td>\n",
              "      <td>0.000000</td>\n",
              "      <td>0.000000</td>\n",
              "      <td>0.000000</td>\n",
              "    </tr>\n",
              "    <tr>\n",
              "      <th>25%</th>\n",
              "      <td>37500.750000</td>\n",
              "      <td>0.000000</td>\n",
              "      <td>0.029867</td>\n",
              "      <td>41.000000</td>\n",
              "      <td>0.000000</td>\n",
              "      <td>0.175074</td>\n",
              "      <td>3.400000e+03</td>\n",
              "      <td>5.000000</td>\n",
              "      <td>0.000000</td>\n",
              "      <td>0.000000</td>\n",
              "      <td>0.000000</td>\n",
              "      <td>0.000000</td>\n",
              "    </tr>\n",
              "    <tr>\n",
              "      <th>50%</th>\n",
              "      <td>75000.500000</td>\n",
              "      <td>0.000000</td>\n",
              "      <td>0.154181</td>\n",
              "      <td>52.000000</td>\n",
              "      <td>0.000000</td>\n",
              "      <td>0.366508</td>\n",
              "      <td>5.400000e+03</td>\n",
              "      <td>8.000000</td>\n",
              "      <td>0.000000</td>\n",
              "      <td>1.000000</td>\n",
              "      <td>0.000000</td>\n",
              "      <td>0.000000</td>\n",
              "    </tr>\n",
              "    <tr>\n",
              "      <th>75%</th>\n",
              "      <td>112500.250000</td>\n",
              "      <td>0.000000</td>\n",
              "      <td>0.559046</td>\n",
              "      <td>63.000000</td>\n",
              "      <td>0.000000</td>\n",
              "      <td>0.868254</td>\n",
              "      <td>8.249000e+03</td>\n",
              "      <td>11.000000</td>\n",
              "      <td>0.000000</td>\n",
              "      <td>2.000000</td>\n",
              "      <td>0.000000</td>\n",
              "      <td>1.000000</td>\n",
              "    </tr>\n",
              "    <tr>\n",
              "      <th>max</th>\n",
              "      <td>150000.000000</td>\n",
              "      <td>1.000000</td>\n",
              "      <td>50708.000000</td>\n",
              "      <td>109.000000</td>\n",
              "      <td>98.000000</td>\n",
              "      <td>329664.000000</td>\n",
              "      <td>3.008750e+06</td>\n",
              "      <td>58.000000</td>\n",
              "      <td>98.000000</td>\n",
              "      <td>54.000000</td>\n",
              "      <td>98.000000</td>\n",
              "      <td>20.000000</td>\n",
              "    </tr>\n",
              "  </tbody>\n",
              "</table>\n",
              "</div>"
            ],
            "text/plain": [
              "               Sr_No  SeriousDlqin2yrs  monthly_utilization            age  \\\n",
              "count  150000.000000     150000.000000        150000.000000  150000.000000   \n",
              "mean    75000.500000          0.066840             6.048438      52.295207   \n",
              "std     43301.414527          0.249746           249.755371      14.771866   \n",
              "min         1.000000          0.000000             0.000000       0.000000   \n",
              "25%     37500.750000          0.000000             0.029867      41.000000   \n",
              "50%     75000.500000          0.000000             0.154181      52.000000   \n",
              "75%    112500.250000          0.000000             0.559046      63.000000   \n",
              "max    150000.000000          1.000000         50708.000000     109.000000   \n",
              "\n",
              "       NumberOfTime30-59DaysPastDueNotWorse      DebtRatio  MonthlyIncome  \\\n",
              "count                         150000.000000  150000.000000   1.202690e+05   \n",
              "mean                               0.421033     353.005076   6.670221e+03   \n",
              "std                                4.192781    2037.818523   1.438467e+04   \n",
              "min                                0.000000       0.000000   0.000000e+00   \n",
              "25%                                0.000000       0.175074   3.400000e+03   \n",
              "50%                                0.000000       0.366508   5.400000e+03   \n",
              "75%                                0.000000       0.868254   8.249000e+03   \n",
              "max                               98.000000  329664.000000   3.008750e+06   \n",
              "\n",
              "       NumberOfOpenCreditLinesAndLoans  NumberOfTimes90DaysLate  \\\n",
              "count                    150000.000000            150000.000000   \n",
              "mean                          8.452760                 0.265973   \n",
              "std                           5.145951                 4.169304   \n",
              "min                           0.000000                 0.000000   \n",
              "25%                           5.000000                 0.000000   \n",
              "50%                           8.000000                 0.000000   \n",
              "75%                          11.000000                 0.000000   \n",
              "max                          58.000000                98.000000   \n",
              "\n",
              "       NumberRealEstateLoansOrLines  NumberOfTime60-89DaysPastDueNotWorse  \\\n",
              "count                 150000.000000                         150000.000000   \n",
              "mean                       1.018240                              0.240387   \n",
              "std                        1.129771                              4.155179   \n",
              "min                        0.000000                              0.000000   \n",
              "25%                        0.000000                              0.000000   \n",
              "50%                        1.000000                              0.000000   \n",
              "75%                        2.000000                              0.000000   \n",
              "max                       54.000000                             98.000000   \n",
              "\n",
              "       NumberOfDependents  \n",
              "count       146076.000000  \n",
              "mean             0.757222  \n",
              "std              1.115086  \n",
              "min              0.000000  \n",
              "25%              0.000000  \n",
              "50%              0.000000  \n",
              "75%              1.000000  \n",
              "max             20.000000  "
            ]
          },
          "execution_count": 45,
          "metadata": {},
          "output_type": "execute_result"
        }
      ],
      "source": [
        "loans.describe()"
      ]
    },
    {
      "cell_type": "code",
      "execution_count": 46,
      "metadata": {
        "id": "Afqh2vileSeZ"
      },
      "outputs": [],
      "source": [
        "#97% clean and 3% issues\n",
        "#Replace with the median - means  imputation"
      ]
    },
    {
      "cell_type": "code",
      "execution_count": 47,
      "metadata": {
        "colab": {
          "base_uri": "https://localhost:8080/",
          "height": 554
        },
        "id": "7Qp4yfMqIC0T",
        "outputId": "220ad7cc-1881-496f-8c77-ccce340e9b6f"
      },
      "outputs": [
        {
          "data": {
            "text/plain": [
              "0.050        0.00\n",
              "0.100        0.00\n",
              "0.250        0.03\n",
              "0.500        0.15\n",
              "0.750        0.56\n",
              "0.800        0.70\n",
              "0.900        0.98\n",
              "0.910        1.00\n",
              "0.950        1.00\n",
              "0.960        1.00\n",
              "0.970        1.00\n",
              "0.975        1.00\n",
              "0.980        1.01\n",
              "0.990        1.09\n",
              "1.000    50708.00\n",
              "Name: monthly_utilization, dtype: float64"
            ]
          },
          "execution_count": 47,
          "metadata": {},
          "output_type": "execute_result"
        }
      ],
      "source": [
        "util_percentiles=loans['monthly_utilization'].quantile([0.05, 0.1, 0.25, 0.5, 0.75, 0.80, 0.9,0.91,0.95,0.96,0.97,0.975,0.98,0.99,1])\n",
        "round(util_percentiles,2)"
      ]
    },
    {
      "cell_type": "code",
      "execution_count": 48,
      "metadata": {
        "colab": {
          "base_uri": "https://localhost:8080/"
        },
        "id": "Ho2AAs75IHQv",
        "outputId": "96c18a47-3737-43f2-c340-a6a1ec76f81e"
      },
      "outputs": [
        {
          "data": {
            "text/plain": [
              "np.float64(0.154180737)"
            ]
          },
          "execution_count": 48,
          "metadata": {},
          "output_type": "execute_result"
        }
      ],
      "source": [
        "median_util=loans['monthly_utilization'].median()\n",
        "median_util"
      ]
    },
    {
      "cell_type": "code",
      "execution_count": 49,
      "metadata": {
        "colab": {
          "base_uri": "https://localhost:8080/"
        },
        "id": "y4brogxmIL1d",
        "outputId": "de8fc204-29c8-4135-c71e-379bff8d8932"
      },
      "outputs": [
        {
          "name": "stderr",
          "output_type": "stream",
          "text": [
            "C:\\Users\\eshwa\\AppData\\Local\\Temp\\ipykernel_13688\\953468620.py:4: FutureWarning: ChainedAssignmentError: behaviour will change in pandas 3.0!\n",
            "You are setting values through chained assignment. Currently this works in certain cases, but when using Copy-on-Write (which will become the default behaviour in pandas 3.0) this will never work to update the original DataFrame or Series, because the intermediate object on which we are setting values will behave as a copy.\n",
            "A typical example is when you are setting values in a column of a DataFrame, like:\n",
            "\n",
            "df[\"col\"][row_indexer] = value\n",
            "\n",
            "Use `df.loc[row_indexer, \"col\"] = values` instead, to perform the assignment in a single step and ensure this keeps updating the original `df`.\n",
            "\n",
            "See the caveats in the documentation: https://pandas.pydata.org/pandas-docs/stable/user_guide/indexing.html#returning-a-view-versus-a-copy\n",
            "\n",
            "  loans['util_new'][util_temp_bool_vect]=median_util\n",
            "C:\\Users\\eshwa\\AppData\\Local\\Temp\\ipykernel_13688\\953468620.py:4: SettingWithCopyWarning: \n",
            "A value is trying to be set on a copy of a slice from a DataFrame\n",
            "\n",
            "See the caveats in the documentation: https://pandas.pydata.org/pandas-docs/stable/user_guide/indexing.html#returning-a-view-versus-a-copy\n",
            "  loans['util_new'][util_temp_bool_vect]=median_util\n"
          ]
        }
      ],
      "source": [
        "util_temp_bool_vect=loans['monthly_utilization']>1\n",
        "\n",
        "loans['util_new']=loans['monthly_utilization']\n",
        "loans['util_new'][util_temp_bool_vect]=median_util"
      ]
    },
    {
      "cell_type": "code",
      "execution_count": 50,
      "metadata": {
        "colab": {
          "base_uri": "https://localhost:8080/",
          "height": 554
        },
        "id": "ipafFm7jINkR",
        "outputId": "54935071-9d5a-4c7d-9567-a17fbc8fa8ab"
      },
      "outputs": [
        {
          "data": {
            "text/plain": [
              "0.050    0.00\n",
              "0.100    0.00\n",
              "0.250    0.03\n",
              "0.500    0.15\n",
              "0.750    0.51\n",
              "0.800    0.63\n",
              "0.900    0.93\n",
              "0.910    0.95\n",
              "0.950    1.00\n",
              "0.960    1.00\n",
              "0.970    1.00\n",
              "0.975    1.00\n",
              "0.980    1.00\n",
              "0.990    1.00\n",
              "1.000    1.00\n",
              "Name: util_new, dtype: float64"
            ]
          },
          "execution_count": 50,
          "metadata": {},
          "output_type": "execute_result"
        }
      ],
      "source": [
        "# percentile distribution for new variable\n",
        "util_percentiles1=loans['util_new'].quantile([0.05, 0.1, 0.25, 0.5, 0.75, 0.80, 0.9,0.91,0.95,0.96,0.97,0.975,0.98,0.99,1])\n",
        "round(util_percentiles1,2)\n"
      ]
    },
    {
      "cell_type": "markdown",
      "metadata": {
        "id": "g85fzJKkIW4K"
      },
      "source": [
        "### Data Cleaning - NumberOfTime30-59DaysPastDueNotWorse"
      ]
    },
    {
      "cell_type": "code",
      "execution_count": 52,
      "metadata": {
        "id": "lZnOlUsyfd7a"
      },
      "outputs": [],
      "source": [
        "# cleaning of NumberOfTime30-59DaysPastDueNotWorse-one month late freq\n",
        "#96 and 98 are errors"
      ]
    },
    {
      "cell_type": "code",
      "execution_count": 53,
      "metadata": {
        "colab": {
          "base_uri": "https://localhost:8080/",
          "height": 617
        },
        "id": "ZrV7vDSrITYd",
        "outputId": "af9bf6a9-cd72-462b-c953-0819dd03c89d"
      },
      "outputs": [
        {
          "data": {
            "text/plain": [
              "NumberOfTime30-59DaysPastDueNotWorse\n",
              "0     126018\n",
              "1      16033\n",
              "2       4598\n",
              "3       1754\n",
              "4        747\n",
              "5        342\n",
              "98       264\n",
              "6        140\n",
              "7         54\n",
              "8         25\n",
              "9         12\n",
              "96         5\n",
              "10         4\n",
              "12         2\n",
              "13         1\n",
              "11         1\n",
              "Name: count, dtype: int64"
            ]
          },
          "execution_count": 53,
          "metadata": {},
          "output_type": "execute_result"
        }
      ],
      "source": [
        "freq_table_30dpd=loans['NumberOfTime30-59DaysPastDueNotWorse'].value_counts()\n",
        "freq_table_30dpd"
      ]
    },
    {
      "cell_type": "code",
      "execution_count": 55,
      "metadata": {
        "colab": {
          "base_uri": "https://localhost:8080/",
          "height": 582
        },
        "id": "LD--xgxKIaAY",
        "outputId": "6e35b36d-4a59-43c6-ebe7-9d8217c1d035"
      },
      "outputs": [
        {
          "data": {
            "text/html": [
              "<div>\n",
              "<style scoped>\n",
              "    .dataframe tbody tr th:only-of-type {\n",
              "        vertical-align: middle;\n",
              "    }\n",
              "\n",
              "    .dataframe tbody tr th {\n",
              "        vertical-align: top;\n",
              "    }\n",
              "\n",
              "    .dataframe thead th {\n",
              "        text-align: right;\n",
              "    }\n",
              "</style>\n",
              "<table border=\"1\" class=\"dataframe\">\n",
              "  <thead>\n",
              "    <tr style=\"text-align: right;\">\n",
              "      <th>SeriousDlqin2yrs</th>\n",
              "      <th>0</th>\n",
              "      <th>1</th>\n",
              "    </tr>\n",
              "    <tr>\n",
              "      <th>NumberOfTime30-59DaysPastDueNotWorse</th>\n",
              "      <th></th>\n",
              "      <th></th>\n",
              "    </tr>\n",
              "  </thead>\n",
              "  <tbody>\n",
              "    <tr>\n",
              "      <th>0</th>\n",
              "      <td>120977</td>\n",
              "      <td>5041</td>\n",
              "    </tr>\n",
              "    <tr>\n",
              "      <th>1</th>\n",
              "      <td>13624</td>\n",
              "      <td>2409</td>\n",
              "    </tr>\n",
              "    <tr>\n",
              "      <th>2</th>\n",
              "      <td>3379</td>\n",
              "      <td>1219</td>\n",
              "    </tr>\n",
              "    <tr>\n",
              "      <th>3</th>\n",
              "      <td>1136</td>\n",
              "      <td>618</td>\n",
              "    </tr>\n",
              "    <tr>\n",
              "      <th>4</th>\n",
              "      <td>429</td>\n",
              "      <td>318</td>\n",
              "    </tr>\n",
              "    <tr>\n",
              "      <th>5</th>\n",
              "      <td>188</td>\n",
              "      <td>154</td>\n",
              "    </tr>\n",
              "    <tr>\n",
              "      <th>6</th>\n",
              "      <td>66</td>\n",
              "      <td>74</td>\n",
              "    </tr>\n",
              "    <tr>\n",
              "      <th>7</th>\n",
              "      <td>26</td>\n",
              "      <td>28</td>\n",
              "    </tr>\n",
              "    <tr>\n",
              "      <th>8</th>\n",
              "      <td>17</td>\n",
              "      <td>8</td>\n",
              "    </tr>\n",
              "    <tr>\n",
              "      <th>9</th>\n",
              "      <td>8</td>\n",
              "      <td>4</td>\n",
              "    </tr>\n",
              "    <tr>\n",
              "      <th>10</th>\n",
              "      <td>1</td>\n",
              "      <td>3</td>\n",
              "    </tr>\n",
              "    <tr>\n",
              "      <th>11</th>\n",
              "      <td>0</td>\n",
              "      <td>1</td>\n",
              "    </tr>\n",
              "    <tr>\n",
              "      <th>12</th>\n",
              "      <td>1</td>\n",
              "      <td>1</td>\n",
              "    </tr>\n",
              "    <tr>\n",
              "      <th>13</th>\n",
              "      <td>0</td>\n",
              "      <td>1</td>\n",
              "    </tr>\n",
              "    <tr>\n",
              "      <th>96</th>\n",
              "      <td>1</td>\n",
              "      <td>4</td>\n",
              "    </tr>\n",
              "    <tr>\n",
              "      <th>98</th>\n",
              "      <td>121</td>\n",
              "      <td>143</td>\n",
              "    </tr>\n",
              "  </tbody>\n",
              "</table>\n",
              "</div>"
            ],
            "text/plain": [
              "SeriousDlqin2yrs                           0     1\n",
              "NumberOfTime30-59DaysPastDueNotWorse              \n",
              "0                                     120977  5041\n",
              "1                                      13624  2409\n",
              "2                                       3379  1219\n",
              "3                                       1136   618\n",
              "4                                        429   318\n",
              "5                                        188   154\n",
              "6                                         66    74\n",
              "7                                         26    28\n",
              "8                                         17     8\n",
              "9                                          8     4\n",
              "10                                         1     3\n",
              "11                                         0     1\n",
              "12                                         1     1\n",
              "13                                         0     1\n",
              "96                                         1     4\n",
              "98                                       121   143"
            ]
          },
          "execution_count": 55,
          "metadata": {},
          "output_type": "execute_result"
        }
      ],
      "source": [
        "#Clean the variable- Look at the cross tab of variable vs target. Impute based on target .\n",
        "#Cross tab with target\n",
        "import pandas as pd\n",
        "cross_tab_30dpd_target=pd.crosstab(loans['NumberOfTime30-59DaysPastDueNotWorse'],loans['SeriousDlqin2yrs'])\n",
        "cross_tab_30dpd_target"
      ]
    },
    {
      "cell_type": "code",
      "execution_count": 56,
      "metadata": {
        "colab": {
          "base_uri": "https://localhost:8080/",
          "height": 582
        },
        "id": "kLS2oz3EIdp2",
        "outputId": "18ed425b-c25b-4fc8-8448-024d32d0d434"
      },
      "outputs": [
        {
          "data": {
            "text/html": [
              "<div>\n",
              "<style scoped>\n",
              "    .dataframe tbody tr th:only-of-type {\n",
              "        vertical-align: middle;\n",
              "    }\n",
              "\n",
              "    .dataframe tbody tr th {\n",
              "        vertical-align: top;\n",
              "    }\n",
              "\n",
              "    .dataframe thead th {\n",
              "        text-align: right;\n",
              "    }\n",
              "</style>\n",
              "<table border=\"1\" class=\"dataframe\">\n",
              "  <thead>\n",
              "    <tr style=\"text-align: right;\">\n",
              "      <th>SeriousDlqin2yrs</th>\n",
              "      <th>0</th>\n",
              "      <th>1</th>\n",
              "    </tr>\n",
              "    <tr>\n",
              "      <th>NumberOfTime30-59DaysPastDueNotWorse</th>\n",
              "      <th></th>\n",
              "      <th></th>\n",
              "    </tr>\n",
              "  </thead>\n",
              "  <tbody>\n",
              "    <tr>\n",
              "      <th>0</th>\n",
              "      <td>0.96</td>\n",
              "      <td>0.04</td>\n",
              "    </tr>\n",
              "    <tr>\n",
              "      <th>1</th>\n",
              "      <td>0.85</td>\n",
              "      <td>0.15</td>\n",
              "    </tr>\n",
              "    <tr>\n",
              "      <th>2</th>\n",
              "      <td>0.73</td>\n",
              "      <td>0.27</td>\n",
              "    </tr>\n",
              "    <tr>\n",
              "      <th>3</th>\n",
              "      <td>0.65</td>\n",
              "      <td>0.35</td>\n",
              "    </tr>\n",
              "    <tr>\n",
              "      <th>4</th>\n",
              "      <td>0.57</td>\n",
              "      <td>0.43</td>\n",
              "    </tr>\n",
              "    <tr>\n",
              "      <th>5</th>\n",
              "      <td>0.55</td>\n",
              "      <td>0.45</td>\n",
              "    </tr>\n",
              "    <tr>\n",
              "      <th>6</th>\n",
              "      <td>0.47</td>\n",
              "      <td>0.53</td>\n",
              "    </tr>\n",
              "    <tr>\n",
              "      <th>7</th>\n",
              "      <td>0.48</td>\n",
              "      <td>0.52</td>\n",
              "    </tr>\n",
              "    <tr>\n",
              "      <th>8</th>\n",
              "      <td>0.68</td>\n",
              "      <td>0.32</td>\n",
              "    </tr>\n",
              "    <tr>\n",
              "      <th>9</th>\n",
              "      <td>0.67</td>\n",
              "      <td>0.33</td>\n",
              "    </tr>\n",
              "    <tr>\n",
              "      <th>10</th>\n",
              "      <td>0.25</td>\n",
              "      <td>0.75</td>\n",
              "    </tr>\n",
              "    <tr>\n",
              "      <th>11</th>\n",
              "      <td>0.00</td>\n",
              "      <td>1.00</td>\n",
              "    </tr>\n",
              "    <tr>\n",
              "      <th>12</th>\n",
              "      <td>0.50</td>\n",
              "      <td>0.50</td>\n",
              "    </tr>\n",
              "    <tr>\n",
              "      <th>13</th>\n",
              "      <td>0.00</td>\n",
              "      <td>1.00</td>\n",
              "    </tr>\n",
              "    <tr>\n",
              "      <th>96</th>\n",
              "      <td>0.20</td>\n",
              "      <td>0.80</td>\n",
              "    </tr>\n",
              "    <tr>\n",
              "      <th>98</th>\n",
              "      <td>0.46</td>\n",
              "      <td>0.54</td>\n",
              "    </tr>\n",
              "  </tbody>\n",
              "</table>\n",
              "</div>"
            ],
            "text/plain": [
              "SeriousDlqin2yrs                         0     1\n",
              "NumberOfTime30-59DaysPastDueNotWorse            \n",
              "0                                     0.96  0.04\n",
              "1                                     0.85  0.15\n",
              "2                                     0.73  0.27\n",
              "3                                     0.65  0.35\n",
              "4                                     0.57  0.43\n",
              "5                                     0.55  0.45\n",
              "6                                     0.47  0.53\n",
              "7                                     0.48  0.52\n",
              "8                                     0.68  0.32\n",
              "9                                     0.67  0.33\n",
              "10                                    0.25  0.75\n",
              "11                                    0.00  1.00\n",
              "12                                    0.50  0.50\n",
              "13                                    0.00  1.00\n",
              "96                                    0.20  0.80\n",
              "98                                    0.46  0.54"
            ]
          },
          "execution_count": 56,
          "metadata": {},
          "output_type": "execute_result"
        }
      ],
      "source": [
        "#Cross tab row Percentages\n",
        "cross_tab_30dpd_target_percent=cross_tab_30dpd_target.apply(lambda x: x/x.sum(), axis=1)\n",
        "round(cross_tab_30dpd_target_percent,2)"
      ]
    },
    {
      "cell_type": "code",
      "execution_count": 57,
      "metadata": {
        "colab": {
          "base_uri": "https://localhost:8080/",
          "height": 852
        },
        "id": "NpkLjBo_IfOG",
        "outputId": "3b5a5fba-f693-448d-813a-eec65fae1207"
      },
      "outputs": [
        {
          "name": "stderr",
          "output_type": "stream",
          "text": [
            "C:\\Users\\eshwa\\AppData\\Local\\Temp\\ipykernel_13688\\3992811056.py:5: FutureWarning: ChainedAssignmentError: behaviour will change in pandas 3.0!\n",
            "You are setting values through chained assignment. Currently this works in certain cases, but when using Copy-on-Write (which will become the default behaviour in pandas 3.0) this will never work to update the original DataFrame or Series, because the intermediate object on which we are setting values will behave as a copy.\n",
            "A typical example is when you are setting values in a column of a DataFrame, like:\n",
            "\n",
            "df[\"col\"][row_indexer] = value\n",
            "\n",
            "Use `df.loc[row_indexer, \"col\"] = values` instead, to perform the assignment in a single step and ensure this keeps updating the original `df`.\n",
            "\n",
            "See the caveats in the documentation: https://pandas.pydata.org/pandas-docs/stable/user_guide/indexing.html#returning-a-view-versus-a-copy\n",
            "\n",
            "  loans['num_30_59_dpd_new'][loans['num_30_59_dpd_new']>13]=6\n",
            "C:\\Users\\eshwa\\AppData\\Local\\Temp\\ipykernel_13688\\3992811056.py:5: SettingWithCopyWarning: \n",
            "A value is trying to be set on a copy of a slice from a DataFrame\n",
            "\n",
            "See the caveats in the documentation: https://pandas.pydata.org/pandas-docs/stable/user_guide/indexing.html#returning-a-view-versus-a-copy\n",
            "  loans['num_30_59_dpd_new'][loans['num_30_59_dpd_new']>13]=6\n"
          ]
        },
        {
          "data": {
            "text/plain": [
              "num_30_59_dpd_new\n",
              "0     126018\n",
              "1      16033\n",
              "2       4598\n",
              "3       1754\n",
              "4        747\n",
              "6        409\n",
              "5        342\n",
              "7         54\n",
              "8         25\n",
              "9         12\n",
              "10         4\n",
              "12         2\n",
              "13         1\n",
              "11         1\n",
              "Name: count, dtype: int64"
            ]
          },
          "execution_count": 57,
          "metadata": {},
          "output_type": "execute_result"
        }
      ],
      "source": [
        "\n",
        "#Percentage of 0 and 1 are of 98 is near to percentages of 6.\n",
        "#Replacing error values with 6\n",
        "\n",
        "loans['num_30_59_dpd_new']=loans['NumberOfTime30-59DaysPastDueNotWorse']\n",
        "loans['num_30_59_dpd_new'][loans['num_30_59_dpd_new']>13]=6\n",
        "loans['num_30_59_dpd_new']\n",
        "\n",
        "loans['num_30_59_dpd_new'].value_counts()"
      ]
    },
    {
      "cell_type": "markdown",
      "metadata": {
        "id": "5-XFPxbxIlBM"
      },
      "source": [
        "### Data Cleaning Monthly Income"
      ]
    },
    {
      "cell_type": "code",
      "execution_count": 58,
      "metadata": {
        "colab": {
          "base_uri": "https://localhost:8080/",
          "height": 35
        },
        "id": "8PL-pFOkg9PJ",
        "outputId": "da214bc7-2f02-4346-cb16-fce2cef62d4b"
      },
      "outputs": [
        {
          "data": {
            "text/plain": [
              "'\\nMonthly Income\\n20% missing values\\n80% clean\\n'"
            ]
          },
          "execution_count": 58,
          "metadata": {},
          "output_type": "execute_result"
        }
      ],
      "source": [
        "'''\n",
        "Monthly Income\n",
        "20% missing values\n",
        "80% clean\n",
        "'''\n",
        "#creating a Flag variable\n",
        "#imputation with median"
      ]
    },
    {
      "cell_type": "code",
      "execution_count": 61,
      "metadata": {
        "colab": {
          "base_uri": "https://localhost:8080/"
        },
        "id": "6ko-XzkeIjR6",
        "outputId": "713adce4-43ac-42ba-b791-ff44ae018b32"
      },
      "outputs": [
        {
          "data": {
            "text/plain": [
              "np.float64(0.19820666666666667)"
            ]
          },
          "execution_count": 61,
          "metadata": {},
          "output_type": "execute_result"
        }
      ],
      "source": [
        "#Find the missing value percentage in monthly income\n",
        "loans['MonthlyIncome'].isnull().sum()\n",
        "loans['MonthlyIncome'].isnull().sum()/len(loans)\n",
        "#Once identified where missing values exist, the next task usually is to fill them (data imputation). Depending upon the context,\n",
        "#in this case, I am assigning median value to all those positions where missing value is present:"
      ]
    },
    {
      "cell_type": "code",
      "execution_count": 63,
      "metadata": {
        "colab": {
          "base_uri": "https://localhost:8080/",
          "height": 476
        },
        "id": "nSA-Kb7HIojq",
        "outputId": "c9661d0f-f6bb-43c6-c033-0c56be6c23c0"
      },
      "outputs": [
        {
          "name": "stderr",
          "output_type": "stream",
          "text": [
            "C:\\Users\\eshwa\\AppData\\Local\\Temp\\ipykernel_13688\\3341879715.py:3: FutureWarning: ChainedAssignmentError: behaviour will change in pandas 3.0!\n",
            "You are setting values through chained assignment. Currently this works in certain cases, but when using Copy-on-Write (which will become the default behaviour in pandas 3.0) this will never work to update the original DataFrame or Series, because the intermediate object on which we are setting values will behave as a copy.\n",
            "A typical example is when you are setting values in a column of a DataFrame, like:\n",
            "\n",
            "df[\"col\"][row_indexer] = value\n",
            "\n",
            "Use `df.loc[row_indexer, \"col\"] = values` instead, to perform the assignment in a single step and ensure this keeps updating the original `df`.\n",
            "\n",
            "See the caveats in the documentation: https://pandas.pydata.org/pandas-docs/stable/user_guide/indexing.html#returning-a-view-versus-a-copy\n",
            "\n",
            "  loans['MonthlyIncome_ind'][loans['MonthlyIncome'].isnull()]=0\n",
            "C:\\Users\\eshwa\\AppData\\Local\\Temp\\ipykernel_13688\\3341879715.py:3: SettingWithCopyWarning: \n",
            "A value is trying to be set on a copy of a slice from a DataFrame\n",
            "\n",
            "See the caveats in the documentation: https://pandas.pydata.org/pandas-docs/stable/user_guide/indexing.html#returning-a-view-versus-a-copy\n",
            "  loans['MonthlyIncome_ind'][loans['MonthlyIncome'].isnull()]=0\n"
          ]
        },
        {
          "data": {
            "text/plain": [
              "MonthlyIncome_ind\n",
              "1    120269\n",
              "0     29731\n",
              "Name: count, dtype: int64"
            ]
          },
          "execution_count": 63,
          "metadata": {},
          "output_type": "execute_result"
        }
      ],
      "source": [
        "#Flag variable\n",
        "loans['MonthlyIncome_ind']=1\n",
        "loans['MonthlyIncome_ind'][loans['MonthlyIncome'].isnull()]=0\n",
        "loans['MonthlyIncome_ind'].value_counts()"
      ]
    },
    {
      "cell_type": "code",
      "execution_count": 64,
      "metadata": {
        "colab": {
          "base_uri": "https://localhost:8080/",
          "height": 633
        },
        "id": "gfwFxqDEIpoG",
        "outputId": "52545263-69da-4b99-ae3c-6fa5814f9279"
      },
      "outputs": [
        {
          "name": "stderr",
          "output_type": "stream",
          "text": [
            "C:\\Users\\eshwa\\AppData\\Local\\Temp\\ipykernel_13688\\3855414345.py:3: FutureWarning: ChainedAssignmentError: behaviour will change in pandas 3.0!\n",
            "You are setting values through chained assignment. Currently this works in certain cases, but when using Copy-on-Write (which will become the default behaviour in pandas 3.0) this will never work to update the original DataFrame or Series, because the intermediate object on which we are setting values will behave as a copy.\n",
            "A typical example is when you are setting values in a column of a DataFrame, like:\n",
            "\n",
            "df[\"col\"][row_indexer] = value\n",
            "\n",
            "Use `df.loc[row_indexer, \"col\"] = values` instead, to perform the assignment in a single step and ensure this keeps updating the original `df`.\n",
            "\n",
            "See the caveats in the documentation: https://pandas.pydata.org/pandas-docs/stable/user_guide/indexing.html#returning-a-view-versus-a-copy\n",
            "\n",
            "  loans['MonthlyIncome_new'][loans['MonthlyIncome'].isnull()]=loans['MonthlyIncome'].median()\n",
            "C:\\Users\\eshwa\\AppData\\Local\\Temp\\ipykernel_13688\\3855414345.py:3: SettingWithCopyWarning: \n",
            "A value is trying to be set on a copy of a slice from a DataFrame\n",
            "\n",
            "See the caveats in the documentation: https://pandas.pydata.org/pandas-docs/stable/user_guide/indexing.html#returning-a-view-versus-a-copy\n",
            "  loans['MonthlyIncome_new'][loans['MonthlyIncome'].isnull()]=loans['MonthlyIncome'].median()\n"
          ]
        },
        {
          "data": {
            "text/plain": [
              "count     150000.0\n",
              "mean        6418.0\n",
              "std        12890.0\n",
              "min            0.0\n",
              "25%         3903.0\n",
              "50%         5400.0\n",
              "75%         7400.0\n",
              "max      3008750.0\n",
              "Name: MonthlyIncome_new, dtype: float64"
            ]
          },
          "execution_count": 64,
          "metadata": {},
          "output_type": "execute_result"
        }
      ],
      "source": [
        "#Imputation with median\n",
        "loans['MonthlyIncome_new']=loans['MonthlyIncome']\n",
        "loans['MonthlyIncome_new'][loans['MonthlyIncome'].isnull()]=loans['MonthlyIncome'].median()\n",
        "round(loans['MonthlyIncome_new'].describe())"
      ]
    },
    {
      "cell_type": "code",
      "execution_count": 65,
      "metadata": {
        "colab": {
          "base_uri": "https://localhost:8080/"
        },
        "id": "08-EV44xhnCS",
        "outputId": "f3b419cc-857a-463f-d750-2d64ea9d0dc8"
      },
      "outputs": [
        {
          "data": {
            "text/plain": [
              "np.int64(0)"
            ]
          },
          "execution_count": 65,
          "metadata": {},
          "output_type": "execute_result"
        }
      ],
      "source": [
        "loans[\"MonthlyIncome_new\"].isnull().sum()"
      ]
    },
    {
      "cell_type": "markdown",
      "metadata": {
        "id": "qQgtvGW60o-f"
      },
      "source": [
        "#Data Cleaning - All the other Variables"
      ]
    },
    {
      "cell_type": "code",
      "execution_count": 66,
      "metadata": {
        "colab": {
          "base_uri": "https://localhost:8080/"
        },
        "id": "LNVVvE_91B94",
        "outputId": "7a3e53ae-fe2b-466a-969d-6a6e8653edc0"
      },
      "outputs": [
        {
          "data": {
            "text/plain": [
              "Index(['Sr_No', 'SeriousDlqin2yrs', 'monthly_utilization', 'age',\n",
              "       'NumberOfTime30-59DaysPastDueNotWorse', 'DebtRatio', 'MonthlyIncome',\n",
              "       'NumberOfOpenCreditLinesAndLoans', 'NumberOfTimes90DaysLate',\n",
              "       'NumberRealEstateLoansOrLines', 'NumberOfTime60-89DaysPastDueNotWorse',\n",
              "       'NumberOfDependents', 'util_new', 'num_30_59_dpd_new',\n",
              "       'MonthlyIncome_ind', 'MonthlyIncome_new'],\n",
              "      dtype='object')"
            ]
          },
          "execution_count": 66,
          "metadata": {},
          "output_type": "execute_result"
        }
      ],
      "source": [
        "loans.columns"
      ]
    },
    {
      "cell_type": "markdown",
      "metadata": {
        "id": "VelDwI881vTN"
      },
      "source": [
        "### Age"
      ]
    },
    {
      "cell_type": "code",
      "execution_count": null,
      "metadata": {
        "id": "omsJ0Wd_jcvg"
      },
      "outputs": [],
      "source": [
        "#max age is 80 \n",
        "#1% outliers- low side\n",
        "#3% outliers - High side\n",
        "\n",
        "# different Techinques to handle age outliers\n",
        "#Replace lowside outliers with - min value -21\n",
        "#anybody below 21 will be replaced with 21 -flooring\n",
        "# max allowed age is 80\n",
        "# anybody above 80 will be replaced with the -capping"
      ]
    },
    {
      "cell_type": "code",
      "execution_count": 68,
      "metadata": {
        "colab": {
          "base_uri": "https://localhost:8080/",
          "height": 680
        },
        "id": "0R2PvTOm21az",
        "outputId": "2cfc2cfb-b341-436c-bed6-594394561bf0"
      },
      "outputs": [
        {
          "data": {
            "text/plain": [
              "0.00      0.0\n",
              "0.01     24.0\n",
              "0.10     33.0\n",
              "0.20     39.0\n",
              "0.30     44.0\n",
              "0.40     48.0\n",
              "0.50     52.0\n",
              "0.60     56.0\n",
              "0.70     61.0\n",
              "0.80     65.0\n",
              "0.90     72.0\n",
              "0.93     75.0\n",
              "0.94     76.0\n",
              "0.95     78.0\n",
              "0.96     79.0\n",
              "0.97     81.0\n",
              "0.98     84.0\n",
              "0.99     87.0\n",
              "1.00    109.0\n",
              "Name: age, dtype: float64"
            ]
          },
          "execution_count": 68,
          "metadata": {},
          "output_type": "execute_result"
        }
      ],
      "source": [
        "loans[\"age\"].quantile([0, 0.01,0.1,0.2,0.3,0.4,0.5,0.6,0.7,0.8,0.90,0.93,0.94,0.95,0.96,0.97,0.98,0.99,1])"
      ]
    },
    {
      "cell_type": "code",
      "execution_count": 69,
      "metadata": {
        "colab": {
          "base_uri": "https://localhost:8080/"
        },
        "id": "sN0PQviRoKRK",
        "outputId": "9e7da63b-dd11-48d4-90e9-8d311ac337e8"
      },
      "outputs": [
        {
          "name": "stderr",
          "output_type": "stream",
          "text": [
            "C:\\Users\\eshwa\\AppData\\Local\\Temp\\ipykernel_13688\\2899766376.py:2: FutureWarning: ChainedAssignmentError: behaviour will change in pandas 3.0!\n",
            "You are setting values through chained assignment. Currently this works in certain cases, but when using Copy-on-Write (which will become the default behaviour in pandas 3.0) this will never work to update the original DataFrame or Series, because the intermediate object on which we are setting values will behave as a copy.\n",
            "A typical example is when you are setting values in a column of a DataFrame, like:\n",
            "\n",
            "df[\"col\"][row_indexer] = value\n",
            "\n",
            "Use `df.loc[row_indexer, \"col\"] = values` instead, to perform the assignment in a single step and ensure this keeps updating the original `df`.\n",
            "\n",
            "See the caveats in the documentation: https://pandas.pydata.org/pandas-docs/stable/user_guide/indexing.html#returning-a-view-versus-a-copy\n",
            "\n",
            "  loans[\"age_new\"][loans[\"age_new\"]>90]=loans[\"age\"].median()\n",
            "C:\\Users\\eshwa\\AppData\\Local\\Temp\\ipykernel_13688\\2899766376.py:2: SettingWithCopyWarning: \n",
            "A value is trying to be set on a copy of a slice from a DataFrame\n",
            "\n",
            "See the caveats in the documentation: https://pandas.pydata.org/pandas-docs/stable/user_guide/indexing.html#returning-a-view-versus-a-copy\n",
            "  loans[\"age_new\"][loans[\"age_new\"]>90]=loans[\"age\"].median()\n"
          ]
        }
      ],
      "source": [
        "loans[\"age_new\"]=loans[\"age\"]\n",
        "loans[\"age_new\"][loans[\"age_new\"]>90]=loans[\"age\"].median()"
      ]
    },
    {
      "cell_type": "code",
      "execution_count": 70,
      "metadata": {
        "colab": {
          "base_uri": "https://localhost:8080/",
          "height": 680
        },
        "id": "Tswa0O6hlK_V",
        "outputId": "eb46dd68-d8a3-430c-d269-bfc4ab9fed39"
      },
      "outputs": [
        {
          "data": {
            "text/plain": [
              "0.00     0.0\n",
              "0.01    24.0\n",
              "0.10    33.0\n",
              "0.20    39.0\n",
              "0.30    44.0\n",
              "0.40    48.0\n",
              "0.50    52.0\n",
              "0.60    56.0\n",
              "0.70    60.0\n",
              "0.80    65.0\n",
              "0.90    72.0\n",
              "0.93    75.0\n",
              "0.94    76.0\n",
              "0.95    77.0\n",
              "0.96    79.0\n",
              "0.97    80.0\n",
              "0.98    83.0\n",
              "0.99    86.0\n",
              "1.00    90.0\n",
              "Name: age_new, dtype: float64"
            ]
          },
          "execution_count": 70,
          "metadata": {},
          "output_type": "execute_result"
        }
      ],
      "source": [
        "loans[\"age_new\"].quantile([0, 0.01,0.1,0.2,0.3,0.4,0.5,0.6,0.7,0.8,0.90,0.93,0.94,0.95,0.96,0.97,0.98,0.99,1])"
      ]
    },
    {
      "cell_type": "code",
      "execution_count": 72,
      "metadata": {
        "colab": {
          "base_uri": "https://localhost:8080/",
          "height": 1000
        },
        "id": "dZP-G9J5koTB",
        "outputId": "aeac2174-e5e3-4447-9c8f-ae7a0e644b80"
      },
      "outputs": [
        {
          "data": {
            "text/plain": [
              "'\\n#flooring\\nloans[\"age_new\"]=loans[\"age\"]\\nloans[\"age_new\"][loans[\"age_new\"]<21]=21\\n\\n#capping\\nloans[\"age_new\"][loans[\"age_new\"]>80]=80\\n\\nloans[\"age_new\"].quantile([0, 0.01,0.1,0.2,0.3,0.4,0.5,0.6,0.7,0.8,0.90,0.93,0.94,0.95,0.96,0.97,0.98,0.99,1])\\n'"
            ]
          },
          "execution_count": 72,
          "metadata": {},
          "output_type": "execute_result"
        }
      ],
      "source": [
        "# this is alternative method to median is flooring and capping\n",
        "'''\n",
        "#flooring\n",
        "loans[\"age_new\"]=loans[\"age\"]\n",
        "loans[\"age_new\"][loans[\"age_new\"]<21]=21\n",
        "\n",
        "#capping\n",
        "loans[\"age_new\"][loans[\"age_new\"]>80]=80\n",
        "\n",
        "loans[\"age_new\"].quantile([0, 0.01,0.1,0.2,0.3,0.4,0.5,0.6,0.7,0.8,0.90,0.93,0.94,0.95,0.96,0.97,0.98,0.99,1])\n",
        "'''"
      ]
    },
    {
      "cell_type": "markdown",
      "metadata": {
        "id": "2-iWNi1mGgmR"
      },
      "source": [
        "### DebtRatio"
      ]
    },
    {
      "cell_type": "code",
      "execution_count": 73,
      "metadata": {
        "id": "dRAaZvLimjE7"
      },
      "outputs": [],
      "source": [
        "#5000/10000-50%\n",
        "#if beyond 1 that is the outliers range should be {0-1}"
      ]
    },
    {
      "cell_type": "code",
      "execution_count": 75,
      "metadata": {
        "colab": {
          "base_uri": "https://localhost:8080/",
          "height": 1000
        },
        "id": "9xmr14J-GgmW",
        "outputId": "7c4cf999-6b6e-49cd-a519-1e35b225f0c8"
      },
      "outputs": [
        {
          "data": {
            "text/plain": [
              "0.00         0.000000\n",
              "0.01         0.000000\n",
              "0.02         0.000000\n",
              "0.03         0.000480\n",
              "0.04         0.002278\n",
              "0.05         0.004329\n",
              "0.06         0.006799\n",
              "0.07         0.009997\n",
              "0.08         0.014780\n",
              "0.09         0.021249\n",
              "0.10         0.030874\n",
              "0.20         0.133773\n",
              "0.30         0.213697\n",
              "0.40         0.287460\n",
              "0.50         0.366508\n",
              "0.60         0.467506\n",
              "0.70         0.649189\n",
              "0.75         0.868254\n",
              "0.76         0.951184\n",
              "0.77         1.058832\n",
              "0.78         1.275069\n",
              "0.80         4.000000\n",
              "0.81        14.000000\n",
              "0.82        31.000000\n",
              "0.83        61.000000\n",
              "0.86       453.000000\n",
              "0.90      1267.000000\n",
              "0.93      1917.070000\n",
              "0.94      2172.060000\n",
              "0.95      2449.000000\n",
              "0.96      2791.000000\n",
              "0.97      3225.000000\n",
              "0.98      3839.000000\n",
              "0.99      4979.040000\n",
              "1.00    329664.000000\n",
              "Name: DebtRatio, dtype: float64"
            ]
          },
          "execution_count": 75,
          "metadata": {},
          "output_type": "execute_result"
        }
      ],
      "source": [
        "loans[\"DebtRatio\"].quantile([0,0.01,0.02,0.03,0.04,0.05,0.06,0.07,0.08,0.09,0.1,0.2,0.3,0.4,0.5,0.6,0.7,0.75,0.76,0.77,0.78,0.8,0.81,0.82,0.83,0.86,0.90,0.93,0.94,0.95,0.96,0.97,0.98,0.99,1])"
      ]
    },
    {
      "cell_type": "code",
      "execution_count": 76,
      "metadata": {
        "colab": {
          "base_uri": "https://localhost:8080/"
        },
        "id": "KK_w7ekiGgma",
        "outputId": "56845421-98f3-4020-f5e6-72eb5c28639f"
      },
      "outputs": [
        {
          "data": {
            "text/plain": [
              "np.int64(0)"
            ]
          },
          "execution_count": 76,
          "metadata": {},
          "output_type": "execute_result"
        }
      ],
      "source": [
        "loans[\"DebtRatio\"].isnull().sum()"
      ]
    },
    {
      "cell_type": "code",
      "execution_count": 77,
      "metadata": {
        "colab": {
          "base_uri": "https://localhost:8080/",
          "height": 476
        },
        "id": "AKr0tXObGgmb",
        "outputId": "75f3d965-86d2-4103-f12d-1437e4fe9662"
      },
      "outputs": [
        {
          "name": "stderr",
          "output_type": "stream",
          "text": [
            "C:\\Users\\eshwa\\AppData\\Local\\Temp\\ipykernel_13688\\3708964234.py:6: FutureWarning: ChainedAssignmentError: behaviour will change in pandas 3.0!\n",
            "You are setting values through chained assignment. Currently this works in certain cases, but when using Copy-on-Write (which will become the default behaviour in pandas 3.0) this will never work to update the original DataFrame or Series, because the intermediate object on which we are setting values will behave as a copy.\n",
            "A typical example is when you are setting values in a column of a DataFrame, like:\n",
            "\n",
            "df[\"col\"][row_indexer] = value\n",
            "\n",
            "Use `df.loc[row_indexer, \"col\"] = values` instead, to perform the assignment in a single step and ensure this keeps updating the original `df`.\n",
            "\n",
            "See the caveats in the documentation: https://pandas.pydata.org/pandas-docs/stable/user_guide/indexing.html#returning-a-view-versus-a-copy\n",
            "\n",
            "  loans[\"DebtRatio_ind\"][loans[\"DebtRatio\"]>1.5]=0\n",
            "C:\\Users\\eshwa\\AppData\\Local\\Temp\\ipykernel_13688\\3708964234.py:6: SettingWithCopyWarning: \n",
            "A value is trying to be set on a copy of a slice from a DataFrame\n",
            "\n",
            "See the caveats in the documentation: https://pandas.pydata.org/pandas-docs/stable/user_guide/indexing.html#returning-a-view-versus-a-copy\n",
            "  loans[\"DebtRatio_ind\"][loans[\"DebtRatio\"]>1.5]=0\n"
          ]
        },
        {
          "data": {
            "text/plain": [
              "DebtRatio_ind\n",
              "1    117927\n",
              "0     32073\n",
              "Name: count, dtype: int64"
            ]
          },
          "execution_count": 77,
          "metadata": {},
          "output_type": "execute_result"
        }
      ],
      "source": [
        "#24% outliers\n",
        "#No missing values\n",
        "\n",
        "#flag variable\n",
        "loans[\"DebtRatio_ind\"]=1\n",
        "loans[\"DebtRatio_ind\"][loans[\"DebtRatio\"]>1.5]=0\n",
        "loans[\"DebtRatio_ind\"].value_counts()"
      ]
    },
    {
      "cell_type": "code",
      "execution_count": 78,
      "metadata": {
        "colab": {
          "base_uri": "https://localhost:8080/"
        },
        "id": "tFvhuLYoGgmf",
        "outputId": "458b0513-3d6f-4c67-cfe1-d679b038fe73"
      },
      "outputs": [
        {
          "name": "stderr",
          "output_type": "stream",
          "text": [
            "C:\\Users\\eshwa\\AppData\\Local\\Temp\\ipykernel_13688\\2020513952.py:3: FutureWarning: ChainedAssignmentError: behaviour will change in pandas 3.0!\n",
            "You are setting values through chained assignment. Currently this works in certain cases, but when using Copy-on-Write (which will become the default behaviour in pandas 3.0) this will never work to update the original DataFrame or Series, because the intermediate object on which we are setting values will behave as a copy.\n",
            "A typical example is when you are setting values in a column of a DataFrame, like:\n",
            "\n",
            "df[\"col\"][row_indexer] = value\n",
            "\n",
            "Use `df.loc[row_indexer, \"col\"] = values` instead, to perform the assignment in a single step and ensure this keeps updating the original `df`.\n",
            "\n",
            "See the caveats in the documentation: https://pandas.pydata.org/pandas-docs/stable/user_guide/indexing.html#returning-a-view-versus-a-copy\n",
            "\n",
            "  loans[\"DebtRatio_new\"][loans[\"DebtRatio_new\"]>1.5]=loans[\"DebtRatio\"].median()\n",
            "C:\\Users\\eshwa\\AppData\\Local\\Temp\\ipykernel_13688\\2020513952.py:3: SettingWithCopyWarning: \n",
            "A value is trying to be set on a copy of a slice from a DataFrame\n",
            "\n",
            "See the caveats in the documentation: https://pandas.pydata.org/pandas-docs/stable/user_guide/indexing.html#returning-a-view-versus-a-copy\n",
            "  loans[\"DebtRatio_new\"][loans[\"DebtRatio_new\"]>1.5]=loans[\"DebtRatio\"].median()\n"
          ]
        }
      ],
      "source": [
        "#  imputation\n",
        "loans[\"DebtRatio_new\"]=loans[\"DebtRatio\"]\n",
        "loans[\"DebtRatio_new\"][loans[\"DebtRatio_new\"]>1.5]=loans[\"DebtRatio\"].median()"
      ]
    },
    {
      "cell_type": "code",
      "execution_count": 79,
      "metadata": {
        "colab": {
          "base_uri": "https://localhost:8080/",
          "height": 335
        },
        "id": "7-p2Lc1bKjfw",
        "outputId": "af0a334d-ecf3-4236-e443-583f232b2e73"
      },
      "outputs": [
        {
          "data": {
            "text/plain": [
              "count    150000.000000\n",
              "mean          0.334851\n",
              "std           0.236165\n",
              "min           0.000000\n",
              "25%           0.175074\n",
              "50%           0.366506\n",
              "75%           0.398985\n",
              "max           1.500000\n",
              "Name: DebtRatio_new, dtype: float64"
            ]
          },
          "execution_count": 79,
          "metadata": {},
          "output_type": "execute_result"
        }
      ],
      "source": [
        "loans[\"DebtRatio_new\"].describe()"
      ]
    },
    {
      "cell_type": "markdown",
      "metadata": {
        "id": "J8o0VXqF3XfZ"
      },
      "source": [
        "### NumberOfOpenCreditLinesAndLoans"
      ]
    },
    {
      "cell_type": "code",
      "execution_count": 80,
      "metadata": {
        "colab": {
          "base_uri": "https://localhost:8080/",
          "height": 1000
        },
        "id": "8JJ3bkbQ0ukx",
        "outputId": "6a977990-20c3-4c66-9df4-d0fb45b8fffb"
      },
      "outputs": [
        {
          "data": {
            "text/plain": [
              "NumberOfOpenCreditLinesAndLoans\n",
              "13     5667\n",
              "4     11609\n",
              "2      6666\n",
              "5     12931\n",
              "7     13245\n",
              "3      9058\n",
              "8     12562\n",
              "9     11355\n",
              "6     13614\n",
              "10     9624\n",
              "14     4546\n",
              "22      685\n",
              "17     2370\n",
              "1      4438\n",
              "15     3645\n",
              "31       74\n",
              "12     7005\n",
              "21      864\n",
              "11     8321\n",
              "19     1433\n",
              "18     1874\n",
              "26      239\n",
              "20     1169\n",
              "23      533\n",
              "0      1888\n",
              "16     3000\n",
              "27      194\n",
              "29      114\n",
              "28      150\n",
              "24      422\n",
              "25      337\n",
              "32       52\n",
              "46        3\n",
              "33       47\n",
              "30       88\n",
              "34       35\n",
              "37        7\n",
              "38       13\n",
              "36       18\n",
              "35       27\n",
              "54        4\n",
              "43        8\n",
              "45        8\n",
              "49        4\n",
              "57        2\n",
              "48        6\n",
              "40       10\n",
              "58        1\n",
              "51        2\n",
              "52        3\n",
              "39        9\n",
              "41        4\n",
              "56        2\n",
              "42        8\n",
              "47        2\n",
              "50        2\n",
              "44        2\n",
              "53        1\n",
              "Name: count, dtype: int64"
            ]
          },
          "execution_count": 80,
          "metadata": {},
          "output_type": "execute_result"
        }
      ],
      "source": [
        "loans[\"NumberOfOpenCreditLinesAndLoans\"].value_counts(sort=False)"
      ]
    },
    {
      "cell_type": "code",
      "execution_count": 81,
      "metadata": {
        "colab": {
          "base_uri": "https://localhost:8080/",
          "height": 617
        },
        "id": "JhZb3vNf0un2",
        "outputId": "348acee8-4922-4579-fc23-68558a9fd15f"
      },
      "outputs": [
        {
          "data": {
            "text/plain": [
              "0.000     0.0\n",
              "0.100     3.0\n",
              "0.200     4.0\n",
              "0.300     5.0\n",
              "0.400     6.0\n",
              "0.500     8.0\n",
              "0.750    11.0\n",
              "0.800    12.0\n",
              "0.900    15.0\n",
              "0.910    16.0\n",
              "0.950    18.0\n",
              "0.960    19.0\n",
              "0.970    20.0\n",
              "0.975    21.0\n",
              "0.980    22.0\n",
              "0.990    24.0\n",
              "1.000    58.0\n",
              "Name: NumberOfOpenCreditLinesAndLoans, dtype: float64"
            ]
          },
          "execution_count": 81,
          "metadata": {},
          "output_type": "execute_result"
        }
      ],
      "source": [
        "loans[\"NumberOfOpenCreditLinesAndLoans\"].quantile([0, 0.1, 0.2,0.3,0.4, 0.5, 0.75, 0.80, 0.9,0.91,0.95,0.96,0.97,0.975,0.98,0.99,1])"
      ]
    },
    {
      "cell_type": "code",
      "execution_count": 82,
      "metadata": {
        "id": "s791xGxn0uq-"
      },
      "outputs": [],
      "source": [
        "#above 20 considered as outliers\n",
        "#3% High side outliers\n",
        "#No Missing values"
      ]
    },
    {
      "cell_type": "code",
      "execution_count": 84,
      "metadata": {
        "colab": {
          "base_uri": "https://localhost:8080/"
        },
        "id": "UzHYtpaj0uuY",
        "outputId": "9ecded7f-5ba1-4543-b175-a66ca85aa337"
      },
      "outputs": [
        {
          "name": "stdout",
          "output_type": "stream",
          "text": [
            "<class 'pandas.core.frame.DataFrame'>\n",
            "RangeIndex: 150000 entries, 0 to 149999\n",
            "Data columns (total 20 columns):\n",
            " #   Column                                Non-Null Count   Dtype  \n",
            "---  ------                                --------------   -----  \n",
            " 0   Sr_No                                 150000 non-null  int64  \n",
            " 1   SeriousDlqin2yrs                      150000 non-null  int64  \n",
            " 2   monthly_utilization                   150000 non-null  float64\n",
            " 3   age                                   150000 non-null  int64  \n",
            " 4   NumberOfTime30-59DaysPastDueNotWorse  150000 non-null  int64  \n",
            " 5   DebtRatio                             150000 non-null  float64\n",
            " 6   MonthlyIncome                         120269 non-null  float64\n",
            " 7   NumberOfOpenCreditLinesAndLoans       150000 non-null  int64  \n",
            " 8   NumberOfTimes90DaysLate               150000 non-null  int64  \n",
            " 9   NumberRealEstateLoansOrLines          150000 non-null  int64  \n",
            " 10  NumberOfTime60-89DaysPastDueNotWorse  150000 non-null  int64  \n",
            " 11  NumberOfDependents                    146076 non-null  float64\n",
            " 12  util_new                              150000 non-null  float64\n",
            " 13  num_30_59_dpd_new                     150000 non-null  int64  \n",
            " 14  MonthlyIncome_ind                     150000 non-null  int64  \n",
            " 15  MonthlyIncome_new                     150000 non-null  float64\n",
            " 16  age_new                               150000 non-null  int64  \n",
            " 17  DebtRatio_ind                         150000 non-null  int64  \n",
            " 18  DebtRatio_new                         150000 non-null  float64\n",
            " 19  Open_Credit_lines_new                 150000 non-null  int64  \n",
            "dtypes: float64(7), int64(13)\n",
            "memory usage: 22.9 MB\n"
          ]
        },
        {
          "name": "stderr",
          "output_type": "stream",
          "text": [
            "C:\\Users\\eshwa\\AppData\\Local\\Temp\\ipykernel_13688\\1799985280.py:2: FutureWarning: ChainedAssignmentError: behaviour will change in pandas 3.0!\n",
            "You are setting values through chained assignment. Currently this works in certain cases, but when using Copy-on-Write (which will become the default behaviour in pandas 3.0) this will never work to update the original DataFrame or Series, because the intermediate object on which we are setting values will behave as a copy.\n",
            "A typical example is when you are setting values in a column of a DataFrame, like:\n",
            "\n",
            "df[\"col\"][row_indexer] = value\n",
            "\n",
            "Use `df.loc[row_indexer, \"col\"] = values` instead, to perform the assignment in a single step and ensure this keeps updating the original `df`.\n",
            "\n",
            "See the caveats in the documentation: https://pandas.pydata.org/pandas-docs/stable/user_guide/indexing.html#returning-a-view-versus-a-copy\n",
            "\n",
            "  loans[\"Open_Credit_lines_new\"][loans[\"Open_Credit_lines_new\"]>20]=loans[\"NumberOfOpenCreditLinesAndLoans\"].median()\n",
            "C:\\Users\\eshwa\\AppData\\Local\\Temp\\ipykernel_13688\\1799985280.py:2: SettingWithCopyWarning: \n",
            "A value is trying to be set on a copy of a slice from a DataFrame\n",
            "\n",
            "See the caveats in the documentation: https://pandas.pydata.org/pandas-docs/stable/user_guide/indexing.html#returning-a-view-versus-a-copy\n",
            "  loans[\"Open_Credit_lines_new\"][loans[\"Open_Credit_lines_new\"]>20]=loans[\"NumberOfOpenCreditLinesAndLoans\"].median()\n"
          ]
        }
      ],
      "source": [
        "loans[\"Open_Credit_lines_new\"]=loans[\"NumberOfOpenCreditLinesAndLoans\"]\n",
        "loans[\"Open_Credit_lines_new\"][loans[\"Open_Credit_lines_new\"]>20]=loans[\"NumberOfOpenCreditLinesAndLoans\"].median()\n",
        "loans.info()"
      ]
    },
    {
      "cell_type": "code",
      "execution_count": 86,
      "metadata": {
        "colab": {
          "base_uri": "https://localhost:8080/",
          "height": 335
        },
        "id": "ytKPsHjnoPE2",
        "outputId": "af7115e7-31ad-445a-e949-4f1ad7e88fd3"
      },
      "outputs": [
        {
          "data": {
            "text/plain": [
              "count    150000.000000\n",
              "mean          8.009433\n",
              "std           4.326973\n",
              "min           0.000000\n",
              "25%           5.000000\n",
              "50%           8.000000\n",
              "75%          11.000000\n",
              "max          20.000000\n",
              "Name: Open_Credit_lines_new, dtype: float64"
            ]
          },
          "execution_count": 86,
          "metadata": {},
          "output_type": "execute_result"
        }
      ],
      "source": [
        "loans[\"Open_Credit_lines_new\"].describe()"
      ]
    },
    {
      "cell_type": "markdown",
      "metadata": {
        "id": "sxfH9YCn4wh0"
      },
      "source": [
        "## NumberOfTimes90DaysLate"
      ]
    },
    {
      "cell_type": "code",
      "execution_count": 87,
      "metadata": {
        "colab": {
          "base_uri": "https://localhost:8080/",
          "height": 677
        },
        "id": "srNv27et4v0v",
        "outputId": "244c8093-8e67-456d-8ca0-73a9a0e1ee1f"
      },
      "outputs": [
        {
          "data": {
            "text/html": [
              "<div>\n",
              "<style scoped>\n",
              "    .dataframe tbody tr th:only-of-type {\n",
              "        vertical-align: middle;\n",
              "    }\n",
              "\n",
              "    .dataframe tbody tr th {\n",
              "        vertical-align: top;\n",
              "    }\n",
              "\n",
              "    .dataframe thead th {\n",
              "        text-align: right;\n",
              "    }\n",
              "</style>\n",
              "<table border=\"1\" class=\"dataframe\">\n",
              "  <thead>\n",
              "    <tr style=\"text-align: right;\">\n",
              "      <th>SeriousDlqin2yrs</th>\n",
              "      <th>0</th>\n",
              "      <th>1</th>\n",
              "    </tr>\n",
              "    <tr>\n",
              "      <th>NumberOfTimes90DaysLate</th>\n",
              "      <th></th>\n",
              "      <th></th>\n",
              "    </tr>\n",
              "  </thead>\n",
              "  <tbody>\n",
              "    <tr>\n",
              "      <th>0</th>\n",
              "      <td>135108</td>\n",
              "      <td>6554</td>\n",
              "    </tr>\n",
              "    <tr>\n",
              "      <th>1</th>\n",
              "      <td>3478</td>\n",
              "      <td>1765</td>\n",
              "    </tr>\n",
              "    <tr>\n",
              "      <th>2</th>\n",
              "      <td>779</td>\n",
              "      <td>776</td>\n",
              "    </tr>\n",
              "    <tr>\n",
              "      <th>3</th>\n",
              "      <td>282</td>\n",
              "      <td>385</td>\n",
              "    </tr>\n",
              "    <tr>\n",
              "      <th>4</th>\n",
              "      <td>96</td>\n",
              "      <td>195</td>\n",
              "    </tr>\n",
              "    <tr>\n",
              "      <th>5</th>\n",
              "      <td>48</td>\n",
              "      <td>83</td>\n",
              "    </tr>\n",
              "    <tr>\n",
              "      <th>6</th>\n",
              "      <td>32</td>\n",
              "      <td>48</td>\n",
              "    </tr>\n",
              "    <tr>\n",
              "      <th>7</th>\n",
              "      <td>7</td>\n",
              "      <td>31</td>\n",
              "    </tr>\n",
              "    <tr>\n",
              "      <th>8</th>\n",
              "      <td>6</td>\n",
              "      <td>15</td>\n",
              "    </tr>\n",
              "    <tr>\n",
              "      <th>9</th>\n",
              "      <td>5</td>\n",
              "      <td>14</td>\n",
              "    </tr>\n",
              "    <tr>\n",
              "      <th>10</th>\n",
              "      <td>3</td>\n",
              "      <td>5</td>\n",
              "    </tr>\n",
              "    <tr>\n",
              "      <th>11</th>\n",
              "      <td>2</td>\n",
              "      <td>3</td>\n",
              "    </tr>\n",
              "    <tr>\n",
              "      <th>12</th>\n",
              "      <td>1</td>\n",
              "      <td>1</td>\n",
              "    </tr>\n",
              "    <tr>\n",
              "      <th>13</th>\n",
              "      <td>2</td>\n",
              "      <td>2</td>\n",
              "    </tr>\n",
              "    <tr>\n",
              "      <th>14</th>\n",
              "      <td>1</td>\n",
              "      <td>1</td>\n",
              "    </tr>\n",
              "    <tr>\n",
              "      <th>15</th>\n",
              "      <td>2</td>\n",
              "      <td>0</td>\n",
              "    </tr>\n",
              "    <tr>\n",
              "      <th>17</th>\n",
              "      <td>0</td>\n",
              "      <td>1</td>\n",
              "    </tr>\n",
              "    <tr>\n",
              "      <th>96</th>\n",
              "      <td>1</td>\n",
              "      <td>4</td>\n",
              "    </tr>\n",
              "    <tr>\n",
              "      <th>98</th>\n",
              "      <td>121</td>\n",
              "      <td>143</td>\n",
              "    </tr>\n",
              "  </tbody>\n",
              "</table>\n",
              "</div>"
            ],
            "text/plain": [
              "SeriousDlqin2yrs              0     1\n",
              "NumberOfTimes90DaysLate              \n",
              "0                        135108  6554\n",
              "1                          3478  1765\n",
              "2                           779   776\n",
              "3                           282   385\n",
              "4                            96   195\n",
              "5                            48    83\n",
              "6                            32    48\n",
              "7                             7    31\n",
              "8                             6    15\n",
              "9                             5    14\n",
              "10                            3     5\n",
              "11                            2     3\n",
              "12                            1     1\n",
              "13                            2     2\n",
              "14                            1     1\n",
              "15                            2     0\n",
              "17                            0     1\n",
              "96                            1     4\n",
              "98                          121   143"
            ]
          },
          "execution_count": 87,
          "metadata": {},
          "output_type": "execute_result"
        }
      ],
      "source": [
        "cross_tab_90dpd_target=pd.crosstab(loans['NumberOfTimes90DaysLate'],loans['SeriousDlqin2yrs'])\n",
        "cross_tab_90dpd_target"
      ]
    },
    {
      "cell_type": "code",
      "execution_count": 89,
      "metadata": {
        "colab": {
          "base_uri": "https://localhost:8080/",
          "height": 677
        },
        "id": "-N8-aio_4v3g",
        "outputId": "d20a9765-4199-462f-932f-d2a1c1c25f68"
      },
      "outputs": [
        {
          "data": {
            "text/html": [
              "<div>\n",
              "<style scoped>\n",
              "    .dataframe tbody tr th:only-of-type {\n",
              "        vertical-align: middle;\n",
              "    }\n",
              "\n",
              "    .dataframe tbody tr th {\n",
              "        vertical-align: top;\n",
              "    }\n",
              "\n",
              "    .dataframe thead th {\n",
              "        text-align: right;\n",
              "    }\n",
              "</style>\n",
              "<table border=\"1\" class=\"dataframe\">\n",
              "  <thead>\n",
              "    <tr style=\"text-align: right;\">\n",
              "      <th>SeriousDlqin2yrs</th>\n",
              "      <th>0</th>\n",
              "      <th>1</th>\n",
              "    </tr>\n",
              "    <tr>\n",
              "      <th>NumberOfTimes90DaysLate</th>\n",
              "      <th></th>\n",
              "      <th></th>\n",
              "    </tr>\n",
              "  </thead>\n",
              "  <tbody>\n",
              "    <tr>\n",
              "      <th>0</th>\n",
              "      <td>0.95</td>\n",
              "      <td>0.05</td>\n",
              "    </tr>\n",
              "    <tr>\n",
              "      <th>1</th>\n",
              "      <td>0.66</td>\n",
              "      <td>0.34</td>\n",
              "    </tr>\n",
              "    <tr>\n",
              "      <th>2</th>\n",
              "      <td>0.50</td>\n",
              "      <td>0.50</td>\n",
              "    </tr>\n",
              "    <tr>\n",
              "      <th>3</th>\n",
              "      <td>0.42</td>\n",
              "      <td>0.58</td>\n",
              "    </tr>\n",
              "    <tr>\n",
              "      <th>4</th>\n",
              "      <td>0.33</td>\n",
              "      <td>0.67</td>\n",
              "    </tr>\n",
              "    <tr>\n",
              "      <th>5</th>\n",
              "      <td>0.37</td>\n",
              "      <td>0.63</td>\n",
              "    </tr>\n",
              "    <tr>\n",
              "      <th>6</th>\n",
              "      <td>0.40</td>\n",
              "      <td>0.60</td>\n",
              "    </tr>\n",
              "    <tr>\n",
              "      <th>7</th>\n",
              "      <td>0.18</td>\n",
              "      <td>0.82</td>\n",
              "    </tr>\n",
              "    <tr>\n",
              "      <th>8</th>\n",
              "      <td>0.29</td>\n",
              "      <td>0.71</td>\n",
              "    </tr>\n",
              "    <tr>\n",
              "      <th>9</th>\n",
              "      <td>0.26</td>\n",
              "      <td>0.74</td>\n",
              "    </tr>\n",
              "    <tr>\n",
              "      <th>10</th>\n",
              "      <td>0.38</td>\n",
              "      <td>0.62</td>\n",
              "    </tr>\n",
              "    <tr>\n",
              "      <th>11</th>\n",
              "      <td>0.40</td>\n",
              "      <td>0.60</td>\n",
              "    </tr>\n",
              "    <tr>\n",
              "      <th>12</th>\n",
              "      <td>0.50</td>\n",
              "      <td>0.50</td>\n",
              "    </tr>\n",
              "    <tr>\n",
              "      <th>13</th>\n",
              "      <td>0.50</td>\n",
              "      <td>0.50</td>\n",
              "    </tr>\n",
              "    <tr>\n",
              "      <th>14</th>\n",
              "      <td>0.50</td>\n",
              "      <td>0.50</td>\n",
              "    </tr>\n",
              "    <tr>\n",
              "      <th>15</th>\n",
              "      <td>1.00</td>\n",
              "      <td>0.00</td>\n",
              "    </tr>\n",
              "    <tr>\n",
              "      <th>17</th>\n",
              "      <td>0.00</td>\n",
              "      <td>1.00</td>\n",
              "    </tr>\n",
              "    <tr>\n",
              "      <th>96</th>\n",
              "      <td>0.20</td>\n",
              "      <td>0.80</td>\n",
              "    </tr>\n",
              "    <tr>\n",
              "      <th>98</th>\n",
              "      <td>0.46</td>\n",
              "      <td>0.54</td>\n",
              "    </tr>\n",
              "  </tbody>\n",
              "</table>\n",
              "</div>"
            ],
            "text/plain": [
              "SeriousDlqin2yrs            0     1\n",
              "NumberOfTimes90DaysLate            \n",
              "0                        0.95  0.05\n",
              "1                        0.66  0.34\n",
              "2                        0.50  0.50\n",
              "3                        0.42  0.58\n",
              "4                        0.33  0.67\n",
              "5                        0.37  0.63\n",
              "6                        0.40  0.60\n",
              "7                        0.18  0.82\n",
              "8                        0.29  0.71\n",
              "9                        0.26  0.74\n",
              "10                       0.38  0.62\n",
              "11                       0.40  0.60\n",
              "12                       0.50  0.50\n",
              "13                       0.50  0.50\n",
              "14                       0.50  0.50\n",
              "15                       1.00  0.00\n",
              "17                       0.00  1.00\n",
              "96                       0.20  0.80\n",
              "98                       0.46  0.54"
            ]
          },
          "execution_count": 89,
          "metadata": {},
          "output_type": "execute_result"
        }
      ],
      "source": [
        "cross_tab_90dpd_target_percent=cross_tab_90dpd_target.astype(float).div(cross_tab_90dpd_target.sum(axis=1), axis=0)\n",
        "round(cross_tab_90dpd_target_percent,2)"
      ]
    },
    {
      "cell_type": "code",
      "execution_count": 90,
      "metadata": {
        "colab": {
          "base_uri": "https://localhost:8080/",
          "height": 821
        },
        "id": "pvC8nWa44v6W",
        "outputId": "7946160a-2963-43e8-9801-804f3e66c3e0"
      },
      "outputs": [
        {
          "name": "stderr",
          "output_type": "stream",
          "text": [
            "C:\\Users\\eshwa\\AppData\\Local\\Temp\\ipykernel_13688\\2969497538.py:2: FutureWarning: ChainedAssignmentError: behaviour will change in pandas 3.0!\n",
            "You are setting values through chained assignment. Currently this works in certain cases, but when using Copy-on-Write (which will become the default behaviour in pandas 3.0) this will never work to update the original DataFrame or Series, because the intermediate object on which we are setting values will behave as a copy.\n",
            "A typical example is when you are setting values in a column of a DataFrame, like:\n",
            "\n",
            "df[\"col\"][row_indexer] = value\n",
            "\n",
            "Use `df.loc[row_indexer, \"col\"] = values` instead, to perform the assignment in a single step and ensure this keeps updating the original `df`.\n",
            "\n",
            "See the caveats in the documentation: https://pandas.pydata.org/pandas-docs/stable/user_guide/indexing.html#returning-a-view-versus-a-copy\n",
            "\n",
            "  loans['num_90_dpd_new'][loans['num_90_dpd_new']>12]=3\n",
            "C:\\Users\\eshwa\\AppData\\Local\\Temp\\ipykernel_13688\\2969497538.py:2: SettingWithCopyWarning: \n",
            "A value is trying to be set on a copy of a slice from a DataFrame\n",
            "\n",
            "See the caveats in the documentation: https://pandas.pydata.org/pandas-docs/stable/user_guide/indexing.html#returning-a-view-versus-a-copy\n",
            "  loans['num_90_dpd_new'][loans['num_90_dpd_new']>12]=3\n"
          ]
        },
        {
          "data": {
            "text/plain": [
              "num_90_dpd_new\n",
              "0     141662\n",
              "1       5243\n",
              "3        945\n",
              "2       1555\n",
              "5        131\n",
              "4        291\n",
              "10         8\n",
              "9         19\n",
              "6         80\n",
              "7         38\n",
              "8         21\n",
              "11         5\n",
              "12         2\n",
              "Name: count, dtype: int64"
            ]
          },
          "execution_count": 90,
          "metadata": {},
          "output_type": "execute_result"
        }
      ],
      "source": [
        "loans['num_90_dpd_new']=loans['NumberOfTimes90DaysLate']\n",
        "loans['num_90_dpd_new'][loans['num_90_dpd_new']>12]=3\n",
        "loans['num_90_dpd_new']\n",
        "\n",
        "loans['num_90_dpd_new'].value_counts(sort=False)"
      ]
    },
    {
      "cell_type": "markdown",
      "metadata": {
        "id": "Yvugh_uUJl8y"
      },
      "source": [
        "### NumberRealEstateLoansOrLines"
      ]
    },
    {
      "cell_type": "code",
      "execution_count": 91,
      "metadata": {
        "id": "3Oi-dxzkpqDP"
      },
      "outputs": [],
      "source": [
        "#number of Home loans max is 4 anything above is considered as outliers"
      ]
    },
    {
      "cell_type": "code",
      "execution_count": 92,
      "metadata": {
        "colab": {
          "base_uri": "https://localhost:8080/",
          "height": 617
        },
        "id": "cg6vVbcg4v9L",
        "outputId": "d3d3cc5b-928d-4c94-bbf0-902836ca2226"
      },
      "outputs": [
        {
          "data": {
            "text/plain": [
              "0.000     0.0\n",
              "0.100     0.0\n",
              "0.200     0.0\n",
              "0.300     0.0\n",
              "0.400     1.0\n",
              "0.500     1.0\n",
              "0.750     2.0\n",
              "0.800     2.0\n",
              "0.900     2.0\n",
              "0.910     2.0\n",
              "0.950     3.0\n",
              "0.960     3.0\n",
              "0.970     3.0\n",
              "0.975     3.0\n",
              "0.980     4.0\n",
              "0.990     4.0\n",
              "1.000    54.0\n",
              "Name: NumberRealEstateLoansOrLines, dtype: float64"
            ]
          },
          "execution_count": 92,
          "metadata": {},
          "output_type": "execute_result"
        }
      ],
      "source": [
        "loans[\"NumberRealEstateLoansOrLines\"].quantile([0, 0.1, 0.2,0.3,0.4, 0.5, 0.75, 0.80, 0.9,0.91,0.95,0.96,0.97,0.975,0.98,0.99,1])"
      ]
    },
    {
      "cell_type": "code",
      "execution_count": 93,
      "metadata": {
        "colab": {
          "base_uri": "https://localhost:8080/"
        },
        "id": "qV6P2Tlw4wAC",
        "outputId": "0a471137-7193-4090-92f4-d5343fe896f1"
      },
      "outputs": [
        {
          "name": "stderr",
          "output_type": "stream",
          "text": [
            "C:\\Users\\eshwa\\AppData\\Local\\Temp\\ipykernel_13688\\1596208677.py:2: FutureWarning: ChainedAssignmentError: behaviour will change in pandas 3.0!\n",
            "You are setting values through chained assignment. Currently this works in certain cases, but when using Copy-on-Write (which will become the default behaviour in pandas 3.0) this will never work to update the original DataFrame or Series, because the intermediate object on which we are setting values will behave as a copy.\n",
            "A typical example is when you are setting values in a column of a DataFrame, like:\n",
            "\n",
            "df[\"col\"][row_indexer] = value\n",
            "\n",
            "Use `df.loc[row_indexer, \"col\"] = values` instead, to perform the assignment in a single step and ensure this keeps updating the original `df`.\n",
            "\n",
            "See the caveats in the documentation: https://pandas.pydata.org/pandas-docs/stable/user_guide/indexing.html#returning-a-view-versus-a-copy\n",
            "\n",
            "  loans[\"Real_estate_loans_new\"][loans[\"Real_estate_loans_new\"]>4]=loans[\"NumberRealEstateLoansOrLines\"].median()\n",
            "C:\\Users\\eshwa\\AppData\\Local\\Temp\\ipykernel_13688\\1596208677.py:2: SettingWithCopyWarning: \n",
            "A value is trying to be set on a copy of a slice from a DataFrame\n",
            "\n",
            "See the caveats in the documentation: https://pandas.pydata.org/pandas-docs/stable/user_guide/indexing.html#returning-a-view-versus-a-copy\n",
            "  loans[\"Real_estate_loans_new\"][loans[\"Real_estate_loans_new\"]>4]=loans[\"NumberRealEstateLoansOrLines\"].median()\n"
          ]
        }
      ],
      "source": [
        "loans[\"Real_estate_loans_new\"]=loans[\"NumberRealEstateLoansOrLines\"]\n",
        "loans[\"Real_estate_loans_new\"][loans[\"Real_estate_loans_new\"]>4]=loans[\"NumberRealEstateLoansOrLines\"].median()"
      ]
    },
    {
      "cell_type": "markdown",
      "metadata": {
        "id": "uAhUVOnJJ6ny"
      },
      "source": [
        "## NumberOfTime60-89DaysPastDueNotWorse"
      ]
    },
    {
      "cell_type": "code",
      "execution_count": 94,
      "metadata": {
        "colab": {
          "base_uri": "https://localhost:8080/",
          "height": 758
        },
        "id": "U2KRggWm4wC-",
        "outputId": "72a57b32-b801-4509-ad7b-422a5cb34eac"
      },
      "outputs": [
        {
          "name": "stderr",
          "output_type": "stream",
          "text": [
            "C:\\Users\\eshwa\\AppData\\Local\\Temp\\ipykernel_13688\\3418275715.py:2: FutureWarning: ChainedAssignmentError: behaviour will change in pandas 3.0!\n",
            "You are setting values through chained assignment. Currently this works in certain cases, but when using Copy-on-Write (which will become the default behaviour in pandas 3.0) this will never work to update the original DataFrame or Series, because the intermediate object on which we are setting values will behave as a copy.\n",
            "A typical example is when you are setting values in a column of a DataFrame, like:\n",
            "\n",
            "df[\"col\"][row_indexer] = value\n",
            "\n",
            "Use `df.loc[row_indexer, \"col\"] = values` instead, to perform the assignment in a single step and ensure this keeps updating the original `df`.\n",
            "\n",
            "See the caveats in the documentation: https://pandas.pydata.org/pandas-docs/stable/user_guide/indexing.html#returning-a-view-versus-a-copy\n",
            "\n",
            "  loans['num_60_dpd_new'][loans['num_60_dpd_new']>12]=3\n",
            "C:\\Users\\eshwa\\AppData\\Local\\Temp\\ipykernel_13688\\3418275715.py:2: SettingWithCopyWarning: \n",
            "A value is trying to be set on a copy of a slice from a DataFrame\n",
            "\n",
            "See the caveats in the documentation: https://pandas.pydata.org/pandas-docs/stable/user_guide/indexing.html#returning-a-view-versus-a-copy\n",
            "  loans['num_60_dpd_new'][loans['num_60_dpd_new']>12]=3\n"
          ]
        },
        {
          "data": {
            "text/plain": [
              "num_60_dpd_new\n",
              "0     142396\n",
              "1       5731\n",
              "2       1118\n",
              "5         34\n",
              "3        587\n",
              "4        105\n",
              "6         16\n",
              "7          9\n",
              "8          2\n",
              "11         1\n",
              "9          1\n",
              "Name: count, dtype: int64"
            ]
          },
          "execution_count": 94,
          "metadata": {},
          "output_type": "execute_result"
        }
      ],
      "source": [
        "loans['num_60_dpd_new']=loans['NumberOfTime60-89DaysPastDueNotWorse']\n",
        "loans['num_60_dpd_new'][loans['num_60_dpd_new']>12]=3\n",
        "loans['num_60_dpd_new']\n",
        "\n",
        "loans['num_60_dpd_new'].value_counts(sort=False)"
      ]
    },
    {
      "cell_type": "markdown",
      "metadata": {
        "id": "_MXR701IKesN"
      },
      "source": [
        "## NumberOfDependents"
      ]
    },
    {
      "cell_type": "code",
      "execution_count": 95,
      "metadata": {
        "colab": {
          "base_uri": "https://localhost:8080/",
          "height": 523
        },
        "id": "xFBYG4KC4wF1",
        "outputId": "66e06280-dd00-4b9f-ddbd-afa64b453b50"
      },
      "outputs": [
        {
          "data": {
            "text/plain": [
              "NumberOfDependents\n",
              "0.0     86902\n",
              "1.0     26316\n",
              "2.0     19522\n",
              "3.0      9483\n",
              "4.0      2862\n",
              "5.0       746\n",
              "6.0       158\n",
              "7.0        51\n",
              "8.0        24\n",
              "10.0        5\n",
              "9.0         5\n",
              "20.0        1\n",
              "13.0        1\n",
              "Name: count, dtype: int64"
            ]
          },
          "execution_count": 95,
          "metadata": {},
          "output_type": "execute_result"
        }
      ],
      "source": [
        "loans[\"NumberOfDependents\"].value_counts()"
      ]
    },
    {
      "cell_type": "code",
      "execution_count": 96,
      "metadata": {
        "colab": {
          "base_uri": "https://localhost:8080/"
        },
        "id": "ze500xgI4wJh",
        "outputId": "ddb572e0-495c-4f64-9f43-1f56b0213049"
      },
      "outputs": [
        {
          "data": {
            "text/plain": [
              "np.int64(3924)"
            ]
          },
          "execution_count": 96,
          "metadata": {},
          "output_type": "execute_result"
        }
      ],
      "source": [
        "loans[\"NumberOfDependents\"].isnull().sum()"
      ]
    },
    {
      "cell_type": "code",
      "execution_count": 97,
      "metadata": {
        "colab": {
          "base_uri": "https://localhost:8080/"
        },
        "id": "FlLjGThwK-Wz",
        "outputId": "a4d77704-4781-44a1-e9dd-83dc2368f84c"
      },
      "outputs": [
        {
          "name": "stderr",
          "output_type": "stream",
          "text": [
            "C:\\Users\\eshwa\\AppData\\Local\\Temp\\ipykernel_13688\\2713329696.py:2: FutureWarning: ChainedAssignmentError: behaviour will change in pandas 3.0!\n",
            "You are setting values through chained assignment. Currently this works in certain cases, but when using Copy-on-Write (which will become the default behaviour in pandas 3.0) this will never work to update the original DataFrame or Series, because the intermediate object on which we are setting values will behave as a copy.\n",
            "A typical example is when you are setting values in a column of a DataFrame, like:\n",
            "\n",
            "df[\"col\"][row_indexer] = value\n",
            "\n",
            "Use `df.loc[row_indexer, \"col\"] = values` instead, to perform the assignment in a single step and ensure this keeps updating the original `df`.\n",
            "\n",
            "See the caveats in the documentation: https://pandas.pydata.org/pandas-docs/stable/user_guide/indexing.html#returning-a-view-versus-a-copy\n",
            "\n",
            "  loans[\"NumberOfDependents_new\"][(loans[\"NumberOfDependents_new\"]>10)|\n",
            "C:\\Users\\eshwa\\AppData\\Local\\Temp\\ipykernel_13688\\2713329696.py:2: SettingWithCopyWarning: \n",
            "A value is trying to be set on a copy of a slice from a DataFrame\n",
            "\n",
            "See the caveats in the documentation: https://pandas.pydata.org/pandas-docs/stable/user_guide/indexing.html#returning-a-view-versus-a-copy\n",
            "  loans[\"NumberOfDependents_new\"][(loans[\"NumberOfDependents_new\"]>10)|\n"
          ]
        }
      ],
      "source": [
        "loans[\"NumberOfDependents_new\"]=loans[\"NumberOfDependents\"]\n",
        "loans[\"NumberOfDependents_new\"][(loans[\"NumberOfDependents_new\"]>10)|\n",
        "                                (loans[\"NumberOfDependents\"].isnull())]=loans[\"NumberOfDependents\"].median()"
      ]
    },
    {
      "cell_type": "code",
      "execution_count": 98,
      "metadata": {
        "colab": {
          "base_uri": "https://localhost:8080/"
        },
        "id": "AGMr48wbLSbw",
        "outputId": "f6312f55-30f9-446a-b70b-00a680975e52"
      },
      "outputs": [
        {
          "data": {
            "text/plain": [
              "np.int64(0)"
            ]
          },
          "execution_count": 98,
          "metadata": {},
          "output_type": "execute_result"
        }
      ],
      "source": [
        "loans[\"NumberOfDependents_new\"].isnull().sum()"
      ]
    },
    {
      "cell_type": "code",
      "execution_count": 99,
      "metadata": {
        "colab": {
          "base_uri": "https://localhost:8080/",
          "height": 460
        },
        "id": "T9Kbx16mLcn8",
        "outputId": "4bb0a313-038f-495c-decb-0af159473db2"
      },
      "outputs": [
        {
          "data": {
            "text/plain": [
              "NumberOfDependents_new\n",
              "0.0     90828\n",
              "1.0     26316\n",
              "2.0     19522\n",
              "3.0      9483\n",
              "4.0      2862\n",
              "5.0       746\n",
              "6.0       158\n",
              "7.0        51\n",
              "8.0        24\n",
              "10.0        5\n",
              "9.0         5\n",
              "Name: count, dtype: int64"
            ]
          },
          "execution_count": 99,
          "metadata": {},
          "output_type": "execute_result"
        }
      ],
      "source": [
        "loans[\"NumberOfDependents_new\"].value_counts()"
      ]
    },
    {
      "cell_type": "markdown",
      "metadata": {
        "id": "o6dQSmxWLhQ9"
      },
      "source": [
        "## Exporting the final dataset"
      ]
    },
    {
      "cell_type": "code",
      "execution_count": 100,
      "metadata": {
        "id": "u8LhXbN5Lkia"
      },
      "outputs": [],
      "source": [
        "loans.to_csv(\"loans_cleaned.csv\")"
      ]
    },
    {
      "cell_type": "markdown",
      "metadata": {
        "id": "2iwIBGZmpjR_"
      },
      "source": [
        "## Importing Already Cleaned Dataset"
      ]
    },
    {
      "cell_type": "code",
      "execution_count": 101,
      "metadata": {
        "colab": {
          "base_uri": "https://localhost:8080/",
          "height": 320
        },
        "id": "MdCWXen7sN60",
        "outputId": "b12a4228-8e74-497a-e4c7-8561fdf0998e"
      },
      "outputs": [
        {
          "data": {
            "text/html": [
              "<div>\n",
              "<style scoped>\n",
              "    .dataframe tbody tr th:only-of-type {\n",
              "        vertical-align: middle;\n",
              "    }\n",
              "\n",
              "    .dataframe tbody tr th {\n",
              "        vertical-align: top;\n",
              "    }\n",
              "\n",
              "    .dataframe thead th {\n",
              "        text-align: right;\n",
              "    }\n",
              "</style>\n",
              "<table border=\"1\" class=\"dataframe\">\n",
              "  <thead>\n",
              "    <tr style=\"text-align: right;\">\n",
              "      <th></th>\n",
              "      <th>Sr_No</th>\n",
              "      <th>SeriousDlqin2yrs</th>\n",
              "      <th>monthly_utilization</th>\n",
              "      <th>age</th>\n",
              "      <th>NumberOfTime30-59DaysPastDueNotWorse</th>\n",
              "      <th>DebtRatio</th>\n",
              "      <th>MonthlyIncome</th>\n",
              "      <th>NumberOfOpenCreditLinesAndLoans</th>\n",
              "      <th>NumberOfTimes90DaysLate</th>\n",
              "      <th>NumberRealEstateLoansOrLines</th>\n",
              "      <th>...</th>\n",
              "      <th>MonthlyIncome_ind</th>\n",
              "      <th>MonthlyIncome_new</th>\n",
              "      <th>age_new</th>\n",
              "      <th>DebtRatio_ind</th>\n",
              "      <th>DebtRatio_new</th>\n",
              "      <th>Open_Credit_lines_new</th>\n",
              "      <th>num_90_dpd_new</th>\n",
              "      <th>Real_estate_loans_new</th>\n",
              "      <th>num_60_dpd_new</th>\n",
              "      <th>NumberOfDependents_new</th>\n",
              "    </tr>\n",
              "  </thead>\n",
              "  <tbody>\n",
              "    <tr>\n",
              "      <th>count</th>\n",
              "      <td>150000.000000</td>\n",
              "      <td>150000.000000</td>\n",
              "      <td>150000.000000</td>\n",
              "      <td>150000.000000</td>\n",
              "      <td>150000.000000</td>\n",
              "      <td>150000.000000</td>\n",
              "      <td>1.202690e+05</td>\n",
              "      <td>150000.000000</td>\n",
              "      <td>150000.000000</td>\n",
              "      <td>150000.000000</td>\n",
              "      <td>...</td>\n",
              "      <td>150000.000000</td>\n",
              "      <td>1.500000e+05</td>\n",
              "      <td>150000.000000</td>\n",
              "      <td>150000.000000</td>\n",
              "      <td>150000.000000</td>\n",
              "      <td>150000.000000</td>\n",
              "      <td>150000.000000</td>\n",
              "      <td>150000.000000</td>\n",
              "      <td>150000.000000</td>\n",
              "      <td>150000.000000</td>\n",
              "    </tr>\n",
              "    <tr>\n",
              "      <th>mean</th>\n",
              "      <td>75000.500000</td>\n",
              "      <td>0.066840</td>\n",
              "      <td>6.048438</td>\n",
              "      <td>52.295207</td>\n",
              "      <td>0.421033</td>\n",
              "      <td>353.005076</td>\n",
              "      <td>6.670221e+03</td>\n",
              "      <td>8.452760</td>\n",
              "      <td>0.265973</td>\n",
              "      <td>1.018240</td>\n",
              "      <td>...</td>\n",
              "      <td>0.801793</td>\n",
              "      <td>6.418455e+03</td>\n",
              "      <td>52.161007</td>\n",
              "      <td>0.786180</td>\n",
              "      <td>0.334851</td>\n",
              "      <td>8.009433</td>\n",
              "      <td>0.095007</td>\n",
              "      <td>0.962960</td>\n",
              "      <td>0.070087</td>\n",
              "      <td>0.737193</td>\n",
              "    </tr>\n",
              "    <tr>\n",
              "      <th>std</th>\n",
              "      <td>43301.414527</td>\n",
              "      <td>0.249746</td>\n",
              "      <td>249.755371</td>\n",
              "      <td>14.771866</td>\n",
              "      <td>4.192781</td>\n",
              "      <td>2037.818523</td>\n",
              "      <td>1.438467e+04</td>\n",
              "      <td>5.145951</td>\n",
              "      <td>4.169304</td>\n",
              "      <td>1.129771</td>\n",
              "      <td>...</td>\n",
              "      <td>0.398650</td>\n",
              "      <td>1.289040e+04</td>\n",
              "      <td>14.584992</td>\n",
              "      <td>0.410003</td>\n",
              "      <td>0.236165</td>\n",
              "      <td>4.326973</td>\n",
              "      <td>0.488967</td>\n",
              "      <td>0.938918</td>\n",
              "      <td>0.352385</td>\n",
              "      <td>1.105454</td>\n",
              "    </tr>\n",
              "    <tr>\n",
              "      <th>min</th>\n",
              "      <td>1.000000</td>\n",
              "      <td>0.000000</td>\n",
              "      <td>0.000000</td>\n",
              "      <td>0.000000</td>\n",
              "      <td>0.000000</td>\n",
              "      <td>0.000000</td>\n",
              "      <td>0.000000e+00</td>\n",
              "      <td>0.000000</td>\n",
              "      <td>0.000000</td>\n",
              "      <td>0.000000</td>\n",
              "      <td>...</td>\n",
              "      <td>0.000000</td>\n",
              "      <td>0.000000e+00</td>\n",
              "      <td>0.000000</td>\n",
              "      <td>0.000000</td>\n",
              "      <td>0.000000</td>\n",
              "      <td>0.000000</td>\n",
              "      <td>0.000000</td>\n",
              "      <td>0.000000</td>\n",
              "      <td>0.000000</td>\n",
              "      <td>0.000000</td>\n",
              "    </tr>\n",
              "    <tr>\n",
              "      <th>25%</th>\n",
              "      <td>37500.750000</td>\n",
              "      <td>0.000000</td>\n",
              "      <td>0.029867</td>\n",
              "      <td>41.000000</td>\n",
              "      <td>0.000000</td>\n",
              "      <td>0.175074</td>\n",
              "      <td>3.400000e+03</td>\n",
              "      <td>5.000000</td>\n",
              "      <td>0.000000</td>\n",
              "      <td>0.000000</td>\n",
              "      <td>...</td>\n",
              "      <td>1.000000</td>\n",
              "      <td>3.903000e+03</td>\n",
              "      <td>41.000000</td>\n",
              "      <td>1.000000</td>\n",
              "      <td>0.175074</td>\n",
              "      <td>5.000000</td>\n",
              "      <td>0.000000</td>\n",
              "      <td>0.000000</td>\n",
              "      <td>0.000000</td>\n",
              "      <td>0.000000</td>\n",
              "    </tr>\n",
              "    <tr>\n",
              "      <th>50%</th>\n",
              "      <td>75000.500000</td>\n",
              "      <td>0.000000</td>\n",
              "      <td>0.154181</td>\n",
              "      <td>52.000000</td>\n",
              "      <td>0.000000</td>\n",
              "      <td>0.366508</td>\n",
              "      <td>5.400000e+03</td>\n",
              "      <td>8.000000</td>\n",
              "      <td>0.000000</td>\n",
              "      <td>1.000000</td>\n",
              "      <td>...</td>\n",
              "      <td>1.000000</td>\n",
              "      <td>5.400000e+03</td>\n",
              "      <td>52.000000</td>\n",
              "      <td>1.000000</td>\n",
              "      <td>0.366506</td>\n",
              "      <td>8.000000</td>\n",
              "      <td>0.000000</td>\n",
              "      <td>1.000000</td>\n",
              "      <td>0.000000</td>\n",
              "      <td>0.000000</td>\n",
              "    </tr>\n",
              "    <tr>\n",
              "      <th>75%</th>\n",
              "      <td>112500.250000</td>\n",
              "      <td>0.000000</td>\n",
              "      <td>0.559046</td>\n",
              "      <td>63.000000</td>\n",
              "      <td>0.000000</td>\n",
              "      <td>0.868254</td>\n",
              "      <td>8.249000e+03</td>\n",
              "      <td>11.000000</td>\n",
              "      <td>0.000000</td>\n",
              "      <td>2.000000</td>\n",
              "      <td>...</td>\n",
              "      <td>1.000000</td>\n",
              "      <td>7.400000e+03</td>\n",
              "      <td>62.000000</td>\n",
              "      <td>1.000000</td>\n",
              "      <td>0.398985</td>\n",
              "      <td>11.000000</td>\n",
              "      <td>0.000000</td>\n",
              "      <td>2.000000</td>\n",
              "      <td>0.000000</td>\n",
              "      <td>1.000000</td>\n",
              "    </tr>\n",
              "    <tr>\n",
              "      <th>max</th>\n",
              "      <td>150000.000000</td>\n",
              "      <td>1.000000</td>\n",
              "      <td>50708.000000</td>\n",
              "      <td>109.000000</td>\n",
              "      <td>98.000000</td>\n",
              "      <td>329664.000000</td>\n",
              "      <td>3.008750e+06</td>\n",
              "      <td>58.000000</td>\n",
              "      <td>98.000000</td>\n",
              "      <td>54.000000</td>\n",
              "      <td>...</td>\n",
              "      <td>1.000000</td>\n",
              "      <td>3.008750e+06</td>\n",
              "      <td>90.000000</td>\n",
              "      <td>1.000000</td>\n",
              "      <td>1.500000</td>\n",
              "      <td>20.000000</td>\n",
              "      <td>12.000000</td>\n",
              "      <td>4.000000</td>\n",
              "      <td>11.000000</td>\n",
              "      <td>10.000000</td>\n",
              "    </tr>\n",
              "  </tbody>\n",
              "</table>\n",
              "<p>8 rows × 24 columns</p>\n",
              "</div>"
            ],
            "text/plain": [
              "               Sr_No  SeriousDlqin2yrs  monthly_utilization            age  \\\n",
              "count  150000.000000     150000.000000        150000.000000  150000.000000   \n",
              "mean    75000.500000          0.066840             6.048438      52.295207   \n",
              "std     43301.414527          0.249746           249.755371      14.771866   \n",
              "min         1.000000          0.000000             0.000000       0.000000   \n",
              "25%     37500.750000          0.000000             0.029867      41.000000   \n",
              "50%     75000.500000          0.000000             0.154181      52.000000   \n",
              "75%    112500.250000          0.000000             0.559046      63.000000   \n",
              "max    150000.000000          1.000000         50708.000000     109.000000   \n",
              "\n",
              "       NumberOfTime30-59DaysPastDueNotWorse      DebtRatio  MonthlyIncome  \\\n",
              "count                         150000.000000  150000.000000   1.202690e+05   \n",
              "mean                               0.421033     353.005076   6.670221e+03   \n",
              "std                                4.192781    2037.818523   1.438467e+04   \n",
              "min                                0.000000       0.000000   0.000000e+00   \n",
              "25%                                0.000000       0.175074   3.400000e+03   \n",
              "50%                                0.000000       0.366508   5.400000e+03   \n",
              "75%                                0.000000       0.868254   8.249000e+03   \n",
              "max                               98.000000  329664.000000   3.008750e+06   \n",
              "\n",
              "       NumberOfOpenCreditLinesAndLoans  NumberOfTimes90DaysLate  \\\n",
              "count                    150000.000000            150000.000000   \n",
              "mean                          8.452760                 0.265973   \n",
              "std                           5.145951                 4.169304   \n",
              "min                           0.000000                 0.000000   \n",
              "25%                           5.000000                 0.000000   \n",
              "50%                           8.000000                 0.000000   \n",
              "75%                          11.000000                 0.000000   \n",
              "max                          58.000000                98.000000   \n",
              "\n",
              "       NumberRealEstateLoansOrLines  ...  MonthlyIncome_ind  \\\n",
              "count                 150000.000000  ...      150000.000000   \n",
              "mean                       1.018240  ...           0.801793   \n",
              "std                        1.129771  ...           0.398650   \n",
              "min                        0.000000  ...           0.000000   \n",
              "25%                        0.000000  ...           1.000000   \n",
              "50%                        1.000000  ...           1.000000   \n",
              "75%                        2.000000  ...           1.000000   \n",
              "max                       54.000000  ...           1.000000   \n",
              "\n",
              "       MonthlyIncome_new        age_new  DebtRatio_ind  DebtRatio_new  \\\n",
              "count       1.500000e+05  150000.000000  150000.000000  150000.000000   \n",
              "mean        6.418455e+03      52.161007       0.786180       0.334851   \n",
              "std         1.289040e+04      14.584992       0.410003       0.236165   \n",
              "min         0.000000e+00       0.000000       0.000000       0.000000   \n",
              "25%         3.903000e+03      41.000000       1.000000       0.175074   \n",
              "50%         5.400000e+03      52.000000       1.000000       0.366506   \n",
              "75%         7.400000e+03      62.000000       1.000000       0.398985   \n",
              "max         3.008750e+06      90.000000       1.000000       1.500000   \n",
              "\n",
              "       Open_Credit_lines_new  num_90_dpd_new  Real_estate_loans_new  \\\n",
              "count          150000.000000   150000.000000          150000.000000   \n",
              "mean                8.009433        0.095007               0.962960   \n",
              "std                 4.326973        0.488967               0.938918   \n",
              "min                 0.000000        0.000000               0.000000   \n",
              "25%                 5.000000        0.000000               0.000000   \n",
              "50%                 8.000000        0.000000               1.000000   \n",
              "75%                11.000000        0.000000               2.000000   \n",
              "max                20.000000       12.000000               4.000000   \n",
              "\n",
              "       num_60_dpd_new  NumberOfDependents_new  \n",
              "count   150000.000000           150000.000000  \n",
              "mean         0.070087                0.737193  \n",
              "std          0.352385                1.105454  \n",
              "min          0.000000                0.000000  \n",
              "25%          0.000000                0.000000  \n",
              "50%          0.000000                0.000000  \n",
              "75%          0.000000                1.000000  \n",
              "max         11.000000               10.000000  \n",
              "\n",
              "[8 rows x 24 columns]"
            ]
          },
          "execution_count": 101,
          "metadata": {},
          "output_type": "execute_result"
        }
      ],
      "source": [
        "loans.describe()"
      ]
    },
    {
      "cell_type": "markdown",
      "metadata": {
        "id": "iVlynfRroK3y"
      },
      "source": [
        "# 3)Logistic Regression Model Building"
      ]
    },
    {
      "cell_type": "code",
      "execution_count": 102,
      "metadata": {
        "id": "sv_ZjZZ4oPbb"
      },
      "outputs": [],
      "source": [
        "\n",
        "import statsmodels.api as sm\n",
        "import statsmodels.formula.api as smf\n",
        "import numpy as np\n",
        "from sklearn.model_selection import train_test_split\n",
        "\n",
        "X=loans.drop([\"SeriousDlqin2yrs\",\"Sr_No\"],axis=1)\n",
        "y=loans[\"SeriousDlqin2yrs\"]\n",
        "\n",
        "X_train, X_test, y_train, y_test = train_test_split(X, y, test_size=0.2, random_state=111)"
      ]
    },
    {
      "cell_type": "code",
      "execution_count": 104,
      "metadata": {
        "colab": {
          "base_uri": "https://localhost:8080/"
        },
        "id": "1tO_tOSmoP74",
        "outputId": "5494eee9-2a45-479a-d900-af6e640b8b56"
      },
      "outputs": [
        {
          "name": "stdout",
          "output_type": "stream",
          "text": [
            "Optimization terminated successfully.\n",
            "         Current function value: 0.199620\n",
            "         Iterations 8\n",
            "                           Logit Regression Results                           \n",
            "==============================================================================\n",
            "Dep. Variable:       SeriousDlqin2yrs   No. Observations:               120000\n",
            "Model:                          Logit   Df Residuals:                   119983\n",
            "Method:                           MLE   Df Model:                           16\n",
            "Date:                Thu, 06 Mar 2025   Pseudo R-squ.:                  0.1937\n",
            "Time:                        22:21:29   Log-Likelihood:                -23954.\n",
            "converged:                       True   LL-Null:                       -29710.\n",
            "Covariance Type:            nonrobust   LLR p-value:                     0.000\n",
            "========================================================================================================\n",
            "                                           coef    std err          z      P>|z|      [0.025      0.975]\n",
            "--------------------------------------------------------------------------------------------------------\n",
            "monthly_utilization                  -1.471e-05   8.18e-05     -0.180      0.857      -0.000       0.000\n",
            "age                                     -0.0491      0.001    -59.709      0.000      -0.051      -0.047\n",
            "NumberOfTime30-59DaysPastDueNotWorse    -0.0615      0.002    -32.368      0.000      -0.065      -0.058\n",
            "DebtRatio                               -0.0003   1.92e-05    -17.014      0.000      -0.000      -0.000\n",
            "MonthlyIncome                        -6.078e-05   4.52e-06    -13.463      0.000   -6.96e-05   -5.19e-05\n",
            "NumberOfOpenCreditLinesAndLoans          0.0250      0.005      5.342      0.000       0.016       0.034\n",
            "NumberRealEstateLoansOrLines             0.2234      0.016     14.384      0.000       0.193       0.254\n",
            "NumberOfDependents                       0.0318      0.011      2.841      0.004       0.010       0.054\n",
            "util_new                                 0.9776      0.034     28.408      0.000       0.910       1.045\n",
            "num_30_59_dpd_new                        0.5950      0.013     44.717      0.000       0.569       0.621\n",
            "MonthlyIncome_ind                       -0.8410      0.062    -13.554      0.000      -0.963      -0.719\n",
            "DebtRatio_ind                           -0.2286      0.060     -3.838      0.000      -0.345      -0.112\n",
            "DebtRatio_new                           -0.0812      0.061     -1.326      0.185      -0.201       0.039\n",
            "Open_Credit_lines_new                   -0.0203      0.006     -3.622      0.000      -0.031      -0.009\n",
            "num_90_dpd_new                           0.7101      0.019     38.298      0.000       0.674       0.746\n",
            "Real_estate_loans_new                   -0.0753      0.021     -3.516      0.000      -0.117      -0.033\n",
            "num_60_dpd_new                           0.7001      0.026     27.194      0.000       0.650       0.751\n",
            "========================================================================================================\n"
          ]
        }
      ],
      "source": [
        "# Fill missing values with the median of each column\n",
        "X_train = X_train.fillna(X_train.median())\n",
        "\n",
        "# Replace infinite values with a large finite number\n",
        "X_train = X_train.replace([np.inf, -np.inf], np.nan)\n",
        "X_train = X_train.fillna(X_train.median())\n",
        "\n",
        "# Remove features with zero variance\n",
        "X_train = X_train.loc[:, (X_train != X_train.iloc[0]).any()]\n",
        "\n",
        "# Remove highly correlated features\n",
        "corr_matrix = X_train.corr().abs()\n",
        "upper = corr_matrix.where(np.triu(np.ones(corr_matrix.shape), k=1).astype(bool))\n",
        "to_drop = [column for column in upper.columns if any(upper[column] > 0.95)]\n",
        "X_train = X_train.drop(columns=to_drop)\n",
        "\n",
        "model = sm.Logit(y_train, X_train).fit()\n",
        "print(model.summary())"
      ]
    },
    {
      "cell_type": "code",
      "execution_count": 105,
      "metadata": {
        "colab": {
          "base_uri": "https://localhost:8080/"
        },
        "id": "xuuQF-jYsx5t",
        "outputId": "b936d998-b06e-472c-81e5-e9e8d5e6bffd"
      },
      "outputs": [
        {
          "name": "stdout",
          "output_type": "stream",
          "text": [
            "Train Accuracy 0.9350166666666667\n",
            "Test Accuracy 0.9392333333333334\n"
          ]
        }
      ],
      "source": [
        "#Accuracy\n",
        "pred_train=model.predict(X_train)\n",
        "\n",
        "# Ensure the same columns are dropped from X_test as were dropped from X_train\n",
        "to_drop = [col for col in to_drop if col in X_test.columns]\n",
        "X_test = X_test.drop(columns=to_drop)\n",
        "X_test = X_test.loc[:, X_train.columns]  # Ensure the columns are in the same order\n",
        "\n",
        "# Handle missing values in X_test\n",
        "X_test = X_test.fillna(X_test.median())\n",
        "\n",
        "pred_test=model.predict(X_test)\n",
        "\n",
        "#Confuson matrix and Accuracy on train data\n",
        "from sklearn.metrics import confusion_matrix,accuracy_score\n",
        "confusion_matrix(y_train,np.round(pred_train))\n",
        "acc=accuracy_score(y_train,np.round(pred_train))\n",
        "print(\"Train Accuracy\", acc)\n",
        "\n",
        "#Confuson matrix and Accuracy on test data\n",
        "confusion_matrix(y_test,np.round(pred_test))\n",
        "acc=accuracy_score(y_test,np.round(pred_test))\n",
        "print(\"Test Accuracy\", acc)"
      ]
    },
    {
      "cell_type": "markdown",
      "metadata": {
        "id": "H22Lq_ULtaAs"
      },
      "source": [
        "#Multicollinearity Checking"
      ]
    },
    {
      "cell_type": "code",
      "execution_count": 107,
      "metadata": {
        "id": "-Nqp6pBdtVd3"
      },
      "outputs": [],
      "source": [
        "#Vif Function\n",
        "import statsmodels.formula.api as sm\n",
        "\n",
        "def vif_cal(input_data, dependent_col):\n",
        "    x_vars=input_data.drop([dependent_col], axis=1)\n",
        "    xvar_names=x_vars.columns\n",
        "    for i in range(0,xvar_names.shape[0]):\n",
        "        y=x_vars[xvar_names[i]]\n",
        "        x=x_vars[xvar_names.drop(xvar_names[i])]\n",
        "        rsq=sm.ols(formula=\"y~x\", data=x_vars).fit().rsquared\n",
        "        vif=round(1/(1-rsq),2)\n",
        "        print (xvar_names[i], \" VIF = \" , vif)"
      ]
    },
    {
      "cell_type": "code",
      "execution_count": 301,
      "metadata": {
        "colab": {
          "base_uri": "https://localhost:8080/"
        },
        "id": "2u_nUJ6Dtv6h",
        "outputId": "05e8985b-795e-407f-d09b-c2b3387d4b85"
      },
      "outputs": [
        {
          "name": "stdout",
          "output_type": "stream",
          "text": [
            "monthly_utilization  VIF =  1.0\n",
            "age  VIF =  58.7\n",
            "NumberOfTime30-59DaysPastDueNotWorse  VIF =  94752753.96\n",
            "DebtRatio  VIF =  1.12\n"
          ]
        },
        {
          "name": "stderr",
          "output_type": "stream",
          "text": [
            "C:\\Users\\eshwa\\AppData\\Local\\Temp\\ipykernel_8204\\1729958118.py:11: RuntimeWarning: divide by zero encountered in scalar divide\n",
            "  vif=round(1/(1-rsq),2)\n"
          ]
        },
        {
          "name": "stdout",
          "output_type": "stream",
          "text": [
            "MonthlyIncome  VIF =  inf\n",
            "NumberOfOpenCreditLinesAndLoans  VIF =  3.34\n",
            "NumberOfTimes90DaysLate  VIF =  1286.73\n",
            "NumberRealEstateLoansOrLines  VIF =  3.34\n",
            "NumberOfTime60-89DaysPastDueNotWorse  VIF =  86272944.46\n",
            "NumberOfDependents  VIF =  278.82\n",
            "util_new  VIF =  1.2\n",
            "num_30_59_dpd_new  VIF =  4309419.47\n"
          ]
        },
        {
          "name": "stderr",
          "output_type": "stream",
          "text": [
            "d:\\python data\\Lib\\site-packages\\statsmodels\\regression\\linear_model.py:1782: RuntimeWarning: divide by zero encountered in scalar divide\n",
            "  return 1 - self.ssr/self.centered_tss\n"
          ]
        },
        {
          "name": "stdout",
          "output_type": "stream",
          "text": [
            "MonthlyIncome_ind  VIF =  0.0\n"
          ]
        },
        {
          "name": "stderr",
          "output_type": "stream",
          "text": [
            "C:\\Users\\eshwa\\AppData\\Local\\Temp\\ipykernel_8204\\1729958118.py:11: RuntimeWarning: divide by zero encountered in scalar divide\n",
            "  vif=round(1/(1-rsq),2)\n"
          ]
        },
        {
          "name": "stdout",
          "output_type": "stream",
          "text": [
            "MonthlyIncome_new  VIF =  inf\n",
            "age_new  VIF =  58.71\n",
            "DebtRatio_ind  VIF =  1.13\n",
            "DebtRatio_new  VIF =  1.52\n",
            "Open_Credit_lines_new  VIF =  3.3\n",
            "num_90_dpd_new  VIF =  26.99\n",
            "Real_estate_loans_new  VIF =  3.41\n",
            "num_60_dpd_new  VIF =  897753.82\n",
            "NumberOfDependents_new  VIF =  278.86\n"
          ]
        }
      ],
      "source": [
        "vif_cal(loans.drop([\"Sr_No\"],axis=1),\"SeriousDlqin2yrs\")"
      ]
    },
    {
      "cell_type": "markdown",
      "metadata": {
        "id": "fZ6TYKUPuQPf"
      },
      "source": [
        "#Final Model"
      ]
    },
    {
      "cell_type": "code",
      "execution_count": 108,
      "metadata": {
        "colab": {
          "base_uri": "https://localhost:8080/"
        },
        "id": "CFmcAtIcuP2V",
        "outputId": "69bb35b2-b77c-47f1-e5df-82263bb6a248"
      },
      "outputs": [
        {
          "name": "stdout",
          "output_type": "stream",
          "text": [
            "Optimization terminated successfully.\n",
            "         Current function value: 0.199627\n",
            "         Iterations 8\n",
            "                           Logit Regression Results                           \n",
            "==============================================================================\n",
            "Dep. Variable:       SeriousDlqin2yrs   No. Observations:               120000\n",
            "Model:                          Logit   Df Residuals:                   119984\n",
            "Method:                           MLE   Df Model:                           15\n",
            "Date:                Thu, 06 Mar 2025   Pseudo R-squ.:                  0.1937\n",
            "Time:                        22:22:25   Log-Likelihood:                -23955.\n",
            "converged:                       True   LL-Null:                       -29710.\n",
            "Covariance Type:            nonrobust   LLR p-value:                     0.000\n",
            "========================================================================================================\n",
            "                                           coef    std err          z      P>|z|      [0.025      0.975]\n",
            "--------------------------------------------------------------------------------------------------------\n",
            "monthly_utilization                  -1.659e-05   8.21e-05     -0.202      0.840      -0.000       0.000\n",
            "age                                     -0.0494      0.001    -62.947      0.000      -0.051      -0.048\n",
            "NumberOfTime30-59DaysPastDueNotWorse    -0.0613      0.002    -32.347      0.000      -0.065      -0.058\n",
            "DebtRatio                               -0.0003    1.9e-05    -16.967      0.000      -0.000      -0.000\n",
            "MonthlyIncome                        -5.914e-05   4.33e-06    -13.649      0.000   -6.76e-05   -5.06e-05\n",
            "NumberOfOpenCreditLinesAndLoans          0.0247      0.005      5.277      0.000       0.016       0.034\n",
            "NumberRealEstateLoansOrLines             0.2201      0.015     14.374      0.000       0.190       0.250\n",
            "NumberOfDependents                       0.0312      0.011      2.787      0.005       0.009       0.053\n",
            "util_new                                 0.9659      0.033     29.023      0.000       0.901       1.031\n",
            "num_30_59_dpd_new                        0.5947      0.013     44.689      0.000       0.569       0.621\n",
            "MonthlyIncome_ind                       -0.8348      0.062    -13.478      0.000      -0.956      -0.713\n",
            "DebtRatio_ind                           -0.2326      0.060     -3.907      0.000      -0.349      -0.116\n",
            "Open_Credit_lines_new                   -0.0214      0.006     -3.859      0.000      -0.032      -0.011\n",
            "num_90_dpd_new                           0.7101      0.019     38.280      0.000       0.674       0.746\n",
            "Real_estate_loans_new                   -0.0817      0.021     -3.913      0.000      -0.123      -0.041\n",
            "num_60_dpd_new                           0.6988      0.026     27.155      0.000       0.648       0.749\n",
            "========================================================================================================\n",
            "Train Accuracy 0.9350583333333333\n",
            "Test Accuracy 0.9392\n"
          ]
        }
      ],
      "source": [
        "#Drop DebtRatio_new based on the P-Value (individual feature impact on y(target varaiable))\n",
        "\n",
        "X=loans.drop([\"SeriousDlqin2yrs\",\"Sr_No\",\"DebtRatio_new\"],axis=1)\n",
        "y=loans[\"SeriousDlqin2yrs\"]\n",
        "\n",
        "X_train, X_test, y_train, y_test = train_test_split(X, y, test_size=0.2, random_state=111)\n",
        "\n",
        "# Fill missing values with the median of each column\n",
        "X_train = X_train.fillna(X_train.median())\n",
        "X_test = X_test.fillna(X_test.median())\n",
        "\n",
        "# Replace infinite values with a large finite number\n",
        "X_train = X_train.replace([np.inf, -np.inf], np.nan)\n",
        "X_test = X_test.replace([np.inf, -np.inf], np.nan)\n",
        "X_train = X_train.fillna(X_train.median())\n",
        "X_test = X_test.fillna(X_test.median())\n",
        "\n",
        "# Remove highly correlated features\n",
        "corr_matrix = X_train.corr().abs()\n",
        "upper = corr_matrix.where(np.triu(np.ones(corr_matrix.shape), k=1).astype(bool))\n",
        "to_drop = [column for column in upper.columns if any(upper[column] > 0.95)]\n",
        "X_train = X_train.drop(columns=to_drop)\n",
        "X_test = X_test.drop(columns=to_drop)\n",
        "\n",
        "import statsmodels.api as sm\n",
        "model=sm.Logit(y_train,X_train).fit()\n",
        "print(model.summary())\n",
        "\n",
        "tran_pred=model.predict(X_train)\n",
        "test_pred=model.predict(X_test)\n",
        "\n",
        "train_accuracy=accuracy_score(y_train,np.round(tran_pred))\n",
        "test_accuracy=accuracy_score(y_test,np.round(test_pred))\n",
        "\n",
        "print(\"Train Accuracy\", train_accuracy)\n",
        "print(\"Test Accuracy\", test_accuracy)\n"
      ]
    },
    {
      "cell_type": "markdown",
      "metadata": {
        "id": "6y-jDxGBoQSI"
      },
      "source": [
        "# 4)Model Validation & Class Imbalance"
      ]
    },
    {
      "cell_type": "code",
      "execution_count": 109,
      "metadata": {
        "colab": {
          "base_uri": "https://localhost:8080/",
          "height": 178
        },
        "id": "C_T8FRQGoXfO",
        "outputId": "3348434d-b650-4a0c-ea1c-bf10798ba85d"
      },
      "outputs": [
        {
          "data": {
            "text/plain": [
              "SeriousDlqin2yrs\n",
              "0    0.93316\n",
              "1    0.06684\n",
              "Name: count, dtype: float64"
            ]
          },
          "execution_count": 109,
          "metadata": {},
          "output_type": "execute_result"
        }
      ],
      "source": [
        "#Classwise Accuracy\n",
        "loans[\"SeriousDlqin2yrs\"].value_counts()/len(loans)"
      ]
    },
    {
      "cell_type": "code",
      "execution_count": 113,
      "metadata": {
        "colab": {
          "base_uri": "https://localhost:8080/"
        },
        "id": "8Oj4vllOoX5B",
        "outputId": "e1cfc97c-826a-41dd-aab8-33bc983bcbc3"
      },
      "outputs": [
        {
          "name": "stdout",
          "output_type": "stream",
          "text": [
            "Train Confusion Matrix\n",
            " [[110815   1064]\n",
            " [  6729   1392]]\n",
            "Test Confusion Matrix\n",
            " [[27844   251]\n",
            " [ 1573   332]]\n"
          ]
        }
      ],
      "source": [
        "train_cm=confusion_matrix(y_train,np.round(tran_pred))\n",
        "test_cm=confusion_matrix(y_test,np.round(test_pred))\n",
        "\n",
        "print(\"Train Confusion Matrix\\n\", train_cm)\n",
        "print(\"Test Confusion Matrix\\n\", test_cm)\n"
      ]
    },
    {
      "cell_type": "code",
      "execution_count": 114,
      "metadata": {
        "colab": {
          "base_uri": "https://localhost:8080/"
        },
        "id": "QTItUEWbvsTV",
        "outputId": "27a159be-eae9-49f6-ce39-663bc228acb9"
      },
      "outputs": [
        {
          "name": "stdout",
          "output_type": "stream",
          "text": [
            "Class-0 Accuracy 0.990489725507021\n",
            "Class-1 Accuracy 0.17140746213520502\n"
          ]
        }
      ],
      "source": [
        "#overall acc--> not very important\n",
        "#Class-0 good\n",
        "#Class-1 Accuracy (bad) --> very important\n",
        "class_0_acc=train_cm[0,0]/(train_cm[0,0]+train_cm[0,1])\n",
        "class_1_acc=train_cm[1,1]/(train_cm[1,0]+train_cm[1,1])\n",
        "\n",
        "print(\"Class-0 Accuracy\", class_0_acc)\n",
        "print(\"Class-1 Accuracy\", class_1_acc)"
      ]
    },
    {
      "cell_type": "markdown",
      "metadata": {
        "id": "SG6T_EkawS36"
      },
      "source": [
        "#Handling Class Imablance using SMOTE technique"
      ]
    },
    {
      "cell_type": "code",
      "execution_count": 115,
      "metadata": {
        "colab": {
          "base_uri": "https://localhost:8080/"
        },
        "id": "BHUenT6cv3vQ",
        "outputId": "5b6c8370-ed38-4bcb-acce-e032db6d3305"
      },
      "outputs": [
        {
          "name": "stdout",
          "output_type": "stream",
          "text": [
            "Before SMOTE Counter({0: 111879, 1: 8121})\n",
            "After SMOTE Counter({0: 111879, 1: 67127})\n"
          ]
        }
      ],
      "source": [
        "\n",
        "from imblearn.over_sampling import SMOTE\n",
        "smote=SMOTE(sampling_strategy=0.6, random_state=44)\n",
        "\n",
        "X_train_smote, y_train_smote=smote.fit_resample(X_train,y_train)\n",
        "\n",
        "import collections\n",
        "print(\"Before SMOTE\", collections.Counter(y_train))\n",
        "print(\"After SMOTE\", collections.Counter(y_train_smote))"
      ]
    },
    {
      "cell_type": "markdown",
      "metadata": {
        "id": "cwGA9kLrwy0g"
      },
      "source": [
        "##Model with balanced data - SMOTE"
      ]
    },
    {
      "cell_type": "code",
      "execution_count": 116,
      "metadata": {
        "colab": {
          "base_uri": "https://localhost:8080/"
        },
        "id": "FiFbyzhwwm27",
        "outputId": "b5442e26-681f-4689-dd23-0749b3eb3c62"
      },
      "outputs": [
        {
          "name": "stdout",
          "output_type": "stream",
          "text": [
            "Optimization terminated successfully.\n",
            "         Current function value: 0.508203\n",
            "         Iterations 6\n",
            "                           Logit Regression Results                           \n",
            "==============================================================================\n",
            "Dep. Variable:       SeriousDlqin2yrs   No. Observations:               179006\n",
            "Model:                          Logit   Df Residuals:                   178990\n",
            "Method:                           MLE   Df Model:                           15\n",
            "Date:                Thu, 06 Mar 2025   Pseudo R-squ.:                  0.2318\n",
            "Time:                        22:24:34   Log-Likelihood:                -90971.\n",
            "converged:                       True   LL-Null:                   -1.1842e+05\n",
            "Covariance Type:            nonrobust   LLR p-value:                     0.000\n",
            "========================================================================================================\n",
            "                                           coef    std err          z      P>|z|      [0.025      0.975]\n",
            "--------------------------------------------------------------------------------------------------------\n",
            "monthly_utilization                  -3.853e-05   3.97e-05     -0.971      0.332      -0.000    3.92e-05\n",
            "age                                     -0.0303      0.000    -94.670      0.000      -0.031      -0.030\n",
            "NumberOfTime30-59DaysPastDueNotWorse    -0.0550      0.001    -37.640      0.000      -0.058      -0.052\n",
            "DebtRatio                            -1.772e-05    5.7e-06     -3.110      0.002   -2.89e-05   -6.55e-06\n",
            "MonthlyIncome                        -5.376e-06   1.13e-06     -4.755      0.000   -7.59e-06   -3.16e-06\n",
            "NumberOfOpenCreditLinesAndLoans          0.0210      0.002      9.209      0.000       0.017       0.025\n",
            "NumberRealEstateLoansOrLines             0.1707      0.009     18.755      0.000       0.153       0.189\n",
            "NumberOfDependents                       0.0845      0.005     15.500      0.000       0.074       0.095\n",
            "util_new                                 1.8503      0.016    112.859      0.000       1.818       1.882\n",
            "num_30_59_dpd_new                        0.5933      0.009     68.743      0.000       0.576       0.610\n",
            "MonthlyIncome_ind                        0.3733      0.029     12.715      0.000       0.316       0.431\n",
            "DebtRatio_ind                           -0.5334      0.028    -19.116      0.000      -0.588      -0.479\n",
            "Open_Credit_lines_new                    0.0043      0.003      1.637      0.102      -0.001       0.010\n",
            "num_90_dpd_new                           0.7901      0.014     56.066      0.000       0.763       0.818\n",
            "Real_estate_loans_new                   -0.5610      0.011    -48.990      0.000      -0.583      -0.539\n",
            "num_60_dpd_new                           0.4718      0.018     26.464      0.000       0.437       0.507\n",
            "========================================================================================================\n"
          ]
        }
      ],
      "source": [
        "model=sm.Logit(y_train_smote,X_train_smote).fit()\n",
        "print(model.summary())"
      ]
    },
    {
      "cell_type": "code",
      "execution_count": 117,
      "metadata": {
        "colab": {
          "base_uri": "https://localhost:8080/"
        },
        "id": "bayG8l3Uw2Tn",
        "outputId": "1650a659-b61a-4312-aeee-3274ab53c81e"
      },
      "outputs": [
        {
          "name": "stdout",
          "output_type": "stream",
          "text": [
            "Train Confusion Matrix\n",
            " [[95792 16087]\n",
            " [28340 38787]]\n",
            "Test Confusion Matrix\n",
            " [[24025  4070]\n",
            " [  711  1194]]\n"
          ]
        }
      ],
      "source": [
        "#Confusion matrix and Accuracy\n",
        "tran_pred=model.predict(X_train_smote)\n",
        "test_pred=model.predict(X_test)\n",
        "\n",
        "#confusion matrix\n",
        "train_cm=confusion_matrix(y_train_smote,np.round(tran_pred))\n",
        "test_cm=confusion_matrix(y_test,np.round(test_pred))\n",
        "\n",
        "print(\"Train Confusion Matrix\\n\", train_cm)\n",
        "print(\"Test Confusion Matrix\\n\", test_cm)\n"
      ]
    },
    {
      "cell_type": "code",
      "execution_count": 118,
      "metadata": {
        "colab": {
          "base_uri": "https://localhost:8080/"
        },
        "id": "5k0wq-_Qw9Mu",
        "outputId": "74c0bfb2-ea1b-4abf-c546-a267725e0963"
      },
      "outputs": [
        {
          "name": "stdout",
          "output_type": "stream",
          "text": [
            "Class-0 Accuracy 0.8562107276611339\n",
            "Class-1 Accuracy 0.5778151861397053\n"
          ]
        }
      ],
      "source": [
        "#Class-0 and Class-1 Accuracy\n",
        "class_0_acc=train_cm[0,0]/(train_cm[0,0]+train_cm[0,1])\n",
        "class_1_acc=train_cm[1,1]/(train_cm[1,0]+train_cm[1,1])\n",
        "\n",
        "print(\"Class-0 Accuracy\", class_0_acc)\n",
        "print(\"Class-1 Accuracy\", class_1_acc)"
      ]
    },
    {
      "cell_type": "code",
      "execution_count": 119,
      "metadata": {
        "colab": {
          "base_uri": "https://localhost:8080/"
        },
        "id": "6T0iDkZryAnP",
        "outputId": "bfc99ddb-ad10-42f0-a6ec-701061832e51"
      },
      "outputs": [
        {
          "name": "stdout",
          "output_type": "stream",
          "text": [
            "Class-0 Accuracy 0.8551343655454707\n",
            "Class-1 Accuracy 0.6267716535433071\n"
          ]
        }
      ],
      "source": [
        "#Class-0 and Class-1 Accuracy on test data\n",
        "class_0_acc=test_cm[0,0]/(test_cm[0,0]+test_cm[0,1])\n",
        "class_1_acc=test_cm[1,1]/(test_cm[1,0]+test_cm[1,1])\n",
        "\n",
        "print(\"Class-0 Accuracy\", class_0_acc)\n",
        "print(\"Class-1 Accuracy\", class_1_acc)"
      ]
    }
  ],
  "metadata": {
    "colab": {
      "provenance": []
    },
    "kernelspec": {
      "display_name": "Python 3",
      "name": "python3"
    },
    "language_info": {
      "codemirror_mode": {
        "name": "ipython",
        "version": 3
      },
      "file_extension": ".py",
      "mimetype": "text/x-python",
      "name": "python",
      "nbconvert_exporter": "python",
      "pygments_lexer": "ipython3",
      "version": "3.13.1"
    }
  },
  "nbformat": 4,
  "nbformat_minor": 0
}
